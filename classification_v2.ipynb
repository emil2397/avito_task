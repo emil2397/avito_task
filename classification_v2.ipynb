{
 "cells": [
  {
   "cell_type": "code",
   "execution_count": 433,
   "metadata": {
    "ExecuteTime": {
     "end_time": "2020-07-20T16:21:42.009481Z",
     "start_time": "2020-07-20T16:21:41.992388Z"
    }
   },
   "outputs": [],
   "source": [
    "import pandas as pd\n",
    "import numpy as np\n",
    "import warnings\n",
    "import joblib\n",
    "\n",
    "\n",
    "from sklearn.preprocessing import LabelEncoder\n",
    "from sklearn.metrics import roc_auc_score\n",
    "from catboost import CatBoostClassifier\n",
    "from collections import Counter\n",
    "\n",
    "\n",
    "warnings.filterwarnings(action=\"ignore\")"
   ]
  },
  {
   "cell_type": "code",
   "execution_count": 9,
   "metadata": {
    "ExecuteTime": {
     "end_time": "2020-07-18T20:48:29.822848Z",
     "start_time": "2020-07-18T20:47:59.098506Z"
    }
   },
   "outputs": [],
   "source": [
    "train_avito_data = pd.read_csv(\"data/train.csv\")"
   ]
  },
  {
   "cell_type": "code",
   "execution_count": 10,
   "metadata": {
    "ExecuteTime": {
     "end_time": "2020-07-18T20:48:30.429086Z",
     "start_time": "2020-07-18T20:48:29.851092Z"
    }
   },
   "outputs": [],
   "source": [
    "val_avito_data = pd.read_csv(\"data/val.csv\")"
   ]
  },
  {
   "cell_type": "markdown",
   "metadata": {},
   "source": [
    "# Подготовка данных\n",
    "\n",
    "1) выделим параметры `phone_number_NOT_given_with_digits`, `contains_phone_number`, `contains_link`, `contains_vk`, `contains_fb`, `contains_instagram`. Затем сохраним те, которые будут соответствовать фродовому случаю.\n",
    "\n",
    "2) По-моему мнению, в контексте авито, чтобы не портить опыт пользователей продавцов (которые приносят основный доход) в нашем случае лучше недоловить фродстеров (мошенников), чем переловить даже неважные кейсы. Другими словами помечать только те кейсы, где есть явный паттерн нарушения.\n"
   ]
  },
  {
   "cell_type": "code",
   "execution_count": 11,
   "metadata": {
    "ExecuteTime": {
     "end_time": "2020-07-18T20:48:41.136149Z",
     "start_time": "2020-07-18T20:48:41.063548Z"
    }
   },
   "outputs": [],
   "source": [
    "# для подсчета цифр в тексте\n",
    "def contains_contact_info_minimal(df):\n",
    "\n",
    "    df[\"description_title\"] = df[\"description\"] + \" \" + df[\"title\"]\n",
    "    \n",
    "    df[\"#_of_digits\"] = df[\"description_title\"].apply(count_digits)\n",
    "\n",
    "    # цифрами точно не передан номер, с учетом домашнего телефона\n",
    "    df[\"phone_number_NOT_given_with_digits\"] = df[\"#_of_digits\"] < 6\n",
    "\n",
    "    # слова-цифры\n",
    "    words_numbers = [\"ноль\",\"один\",\"два\", \"три\", \"четыре\", \"пять\", \"шесть\", \"семь\",\"девять\", \"десять\",\n",
    "                    \"одиннадцать\", \"двенадцать\", \"тринадцать\", \"четырнадцать\", \"пятнадцать\", \"шесть\"\n",
    "                    \"шестнадцать\",\"семнадцать\",\"восемнадцать\",\"девятнадцать\",\"двадцать\",\"тридцать\",\n",
    "                    \"сорок\",\"пятьдесят\",\"шестьдесят\",\"семьдесят\",\"восемьдесят\",\"девяносто\",\n",
    "                    \"сто\",\"двести\",\"триста\",\"четыреста\",\"пятьсот\",\"шестьсот\",\"семьсот\",\"восемьсот\",\"девятьсот\"]\n",
    "\n",
    "    df[\"contains_word_number\"] = df[\"description_title\"].apply(lambda x: \\\n",
    "                                    any(word_number in x for word_number in words_numbers))\n",
    "        \n",
    "    df[\"contains_link\"] = df[\"description_title\"].str.contains(\"https://\") |\\\n",
    "                                df[\"description_title\"].str.contains(\".ru\")\n",
    "\n",
    "    df[\"contains_vk\"] = df[\"description_title\"].str.contains(\"vk\") | \\\n",
    "                                df[\"description_title\"].str.contains(\"вконтакте\") | \\\n",
    "                                df[\"description_title\"].str.contains(\"в контакте\")\n",
    "\n",
    "    df[\"contains_inst\"] = df[\"description_title\"].str.contains(\"instagram\") | \\\n",
    "                                df[\"description_title\"].str.contains(\"инстагр\")\n",
    "\n",
    "    df[\"contains_fb\"] = df[\"description_title\"].str.contains(\"facebook\") | \\\n",
    "                                df[\"description_title\"].str.contains(\"фейсбук\")\n",
    "    \n",
    "    df[\"contains_mail\"] = df[\"description_title\"].str.contains(\"mail\") | \\\n",
    "                                df[\"description_title\"].str.contains(\"@\")\n",
    "    \n",
    "\n",
    "        #с наиб. вероятностью содержится номер телефона\n",
    "    df[\"contains_phone_number\"] = df[\"description_title\"]\\\n",
    "                                    .str.contains(\"^((8|\\+7)[\\- ]?)?(\\(?\\d{3}\\)?[\\- ]?)?[\\d\\- ]{7,10}$\")\n",
    "    \n",
    "    return df\n",
    "\n",
    "def count_digits(string):\n",
    "    return sum(item.isdigit() for item in string)\n",
    "\n",
    "def prepare_data(train_data=None, val_data=None):\n",
    "    \n",
    "    \n",
    "    if train_data is not None and val_data is None:\n",
    "        df = train_data.copy()\n",
    "    if val_data is not None and train_data is not None:\n",
    "        df = val_data.copy()\n",
    "    \n",
    "    \n",
    "    # т.к. мы знаем, что в val данные достаточно точные, поэтому трогать мы их не будем\n",
    "    # а в train обязательно будем, поскольку знаем, что там есть лишние случаи\n",
    "    # данная командая отработает раз лишь для того, чтобы улучшить выборку train\n",
    "    if train_data is not None and val_data is None:\n",
    "        fraud = df[df[\"is_bad\"]==1].copy()\n",
    "        \n",
    "        fraud = contains_contact_info_minimal(fraud)\n",
    "\n",
    "        developed_fraud = fraud.query(\"phone_number_NOT_given_with_digits == False or contains_word_number == True or \\\n",
    "                contains_link == True or contains_vk == True or contains_inst == True or \\\n",
    "                contains_fb == True or contains_phone_number==True or contains_mail==True\").copy()\n",
    "\n",
    "        df.loc[df.index.isin(developed_fraud.index), \"fraud_developed\"] = 1\n",
    "        df.loc[~(df.index.isin(developed_fraud.index)), \"fraud_developed\"] = 0\n",
    "        \n",
    "        # вернем старое название\n",
    "        df = df.drop(\"is_bad\", axis=1).rename(columns={\"fraud_developed\": \"is_bad\"})\n",
    "    \n",
    "    \n",
    "    \n",
    "    # из EDA получилось выделить слова-тригеры, здесь использован эвристический способ расчета  \n",
    "    # метрики задевания слов тригеров\n",
    "    \n",
    "    counter = Counter()\n",
    "\n",
    "    df['title'].apply(lambda x: counter.update(x.split(\" \")))\n",
    "    \n",
    "    words_triggers_title = [\"эт.\", \"м²\", \"квартир\", \"сот.\", \"участк\", \"участок\", \"дом\",'iphone',\n",
    "    '6-к', '3-к', '2-к', '4-к', \"ваз\", \"lada\",'(ижс)', '5-к', '1-к', 'по','дача', \"комната\", \"гараж\", \n",
    "    \"коляска\", \"шины\", \"priora\"]\n",
    "    \n",
    "    df_words_triggers_title = pd.DataFrame(counter.most_common(100))\n",
    "\n",
    "    df_words_triggers_title = df_words_triggers_title[df_words_triggers_title[0]\\\n",
    "                                                  .str.lower().isin(words_triggers_title)]\n",
    "\n",
    "    df_words_triggers_title[1] = df_words_triggers_title[1]/ \\\n",
    "                             df_words_triggers_title[1].sum()*100\n",
    "    \n",
    "    df[\"title_proba_fraud\"] = df[\"title\"].str.lower().apply(lambda x: \\\n",
    "                    df_words_triggers_title[df_words_triggers_title[0].isin(x.split(\" \"))][1].sum())\n",
    "    \n",
    "    counter = Counter()\n",
    "\n",
    "    df['description'].apply(lambda x: counter.update(x.split(\" \")))\n",
    "    \n",
    "    words_triggers_description = ['телефон', \"7\", '8', \"9\", 'вопросы', 'звон', 'номер', 'вопросам','связи'\n",
    "    '↓', '⇒', '+', 'можете', 'сайте', \"заказ\", \"+7\", \"России\", \"Москве\",\"тел\",\n",
    "    \"пишите\", \"доставка\", \"обращаться\", \"ежедневно\", \"уточняйте\", \"доставк\", \"для\",\n",
    "    \"писать\", \"чтобы\", \"сообщения\", \"напрямую\", \"компания\", \"обращайтесь\", \"почт\",\n",
    "    \"WhatsApp\"]\n",
    "    \n",
    "    df_words_triggers_description = pd.DataFrame(counter.most_common(500))\n",
    "\n",
    "    df_words_triggers_description = df_words_triggers_description[df_words_triggers_description[0]\\\n",
    "                                                      .str.lower().isin(words_triggers_description)]\n",
    "\n",
    "    df_words_triggers_description[1] = df_words_triggers_description[1]/ \\\n",
    "                                 df_words_triggers_description[1].sum()*100\n",
    "    \n",
    "    df[\"desc_proba_fraud\"] = df[\"description\"].str.lower().apply(lambda x: df_words_triggers_description\\\n",
    "                            [df_words_triggers_description[0].isin(x.split(\" \"))][1].sum())\n",
    "    \n",
    "    \n",
    "    \n",
    "    # уберем явных аутлаеров в категории цены, чтобы они не испортили замену на средние значения\n",
    "    df = df[np.abs(df.price-df.price.mean()) <= (3*df.price.std())]\n",
    "    \n",
    "    # обработка пропущенных значени в price (есть пропущенные в обоих train и val)\n",
    "    df[\"price\"] = df.loc[:,\"price\"].fillna(df.groupby(\"subcategory\")[\"price\"]\\\n",
    "                               .transform(\"mean\"))\n",
    "\n",
    "    \n",
    "    # добавим вспомогательные, простые параметры текста title, description для модели\n",
    "    df[\"description_len\"] = df[\"description\"].apply(len)\n",
    "    df[\"title_len\"] = df[\"title\"].apply(len)\n",
    "    df[\"number_of_words_description\"] = df[\"description\"].apply(lambda x: len(x.split(\" \")))\n",
    "    df[\"number_of_words_title\"] = df[\"title\"].apply(lambda x: len(x.split(\" \")))\n",
    "    df[\"number_of_sentences_description\"] = df[\"description\"].apply(lambda x: x.count(\".\")+\\\n",
    "                                                                    x.count(\"!\")+x.count(\"?\"))\n",
    "    \n",
    "    #подготовка данных к модели\n",
    "    # отдельный eda показал, что category малозначимый параметр для определения класса, \n",
    "    # поэтому его мы уберем сразу на этапе подготовки данных\n",
    "    df = df[[\"subcategory\", \"price\", \"region\", \\\n",
    "            \"city\", \"is_bad\", \"description_len\", \"title_len\",\n",
    "            \"number_of_words_description\", \"number_of_words_title\", \"number_of_sentences_description\",\n",
    "            \"title_proba_fraud\", \"desc_proba_fraud\"]]\n",
    "    \n",
    "    \n",
    "    #label encoding для 'subcategory', 'region', 'city' (эти показатели остояли свою важность)\n",
    "    object_cols = ['subcategory', 'region', 'city']\n",
    "    \n",
    "    # важно, чтобы label encoding из train полностью соответствовал validate\n",
    "    if val_data is not None and train_data is not None:\n",
    "        label_encoder_subcategory = LabelEncoder()\n",
    "        label_encoder_region = LabelEncoder()\n",
    "        label_encoder_city = LabelEncoder()\n",
    "        \n",
    "        label_encoder_subcategory.fit(train_data[\"subcategory\"])\n",
    "        label_encoder_region.fit(train_data[\"region\"])\n",
    "        label_encoder_city.fit(train_data[\"city\"])\n",
    "        \n",
    "        df[\"subcategory\"] = label_encoder_subcategory.transform(df[\"subcategory\"])\n",
    "        df[\"region\"] = label_encoder_region.transform(df[\"region\"])\n",
    "        df[\"city\"] = label_encoder_city.transform(df[\"city\"])\n",
    "    \n",
    "    if train_data is not None and val_data is None:\n",
    "        label_encoder = LabelEncoder()\n",
    "        for col in object_cols:\n",
    "            df[col] = label_encoder.fit_transform(df[col])\n",
    "        \n",
    "    return df"
   ]
  },
  {
   "cell_type": "code",
   "execution_count": 12,
   "metadata": {
    "ExecuteTime": {
     "end_time": "2020-07-18T20:48:42.061222Z",
     "start_time": "2020-07-18T20:48:42.057554Z"
    }
   },
   "outputs": [],
   "source": [
    "#TODO: 1. объединить свои метрики для отчистки фрода в один показатель"
   ]
  },
  {
   "cell_type": "markdown",
   "metadata": {},
   "source": [
    "# разбиение данных"
   ]
  },
  {
   "cell_type": "code",
   "execution_count": 13,
   "metadata": {
    "ExecuteTime": {
     "end_time": "2020-07-18T21:21:50.428788Z",
     "start_time": "2020-07-18T20:48:42.727199Z"
    }
   },
   "outputs": [],
   "source": [
    "train_data = prepare_data(train_avito_data)"
   ]
  },
  {
   "cell_type": "code",
   "execution_count": 14,
   "metadata": {
    "ExecuteTime": {
     "end_time": "2020-07-18T21:21:51.510702Z",
     "start_time": "2020-07-18T21:21:50.663260Z"
    }
   },
   "outputs": [],
   "source": [
    "X_train = train_data.drop(\"is_bad\", axis=1).copy()\n",
    "y_train = train_data.is_bad.copy()"
   ]
  },
  {
   "cell_type": "code",
   "execution_count": 15,
   "metadata": {
    "ExecuteTime": {
     "end_time": "2020-07-18T21:22:25.229726Z",
     "start_time": "2020-07-18T21:21:51.534955Z"
    }
   },
   "outputs": [],
   "source": [
    "val_data = prepare_data(train_avito_data, val_avito_data)"
   ]
  },
  {
   "cell_type": "code",
   "execution_count": 16,
   "metadata": {
    "ExecuteTime": {
     "end_time": "2020-07-18T21:22:25.252075Z",
     "start_time": "2020-07-18T21:22:25.234622Z"
    }
   },
   "outputs": [],
   "source": [
    "X_val = val_data.drop(\"is_bad\", axis=1).copy()\n",
    "y_val = val_data.is_bad.copy()"
   ]
  },
  {
   "cell_type": "markdown",
   "metadata": {},
   "source": [
    "# выбор данных для обучения и выбор модели классификации"
   ]
  },
  {
   "cell_type": "markdown",
   "metadata": {},
   "source": [
    "\n",
    "- т.к. данные сильно несбалансированы, то стоит сделать undersampling\n",
    "- за базовую модель возьем catboost\n",
    "- найдем наилучшие параметры с помощью gridsearch"
   ]
  },
  {
   "cell_type": "markdown",
   "metadata": {},
   "source": [
    "## Feature selection"
   ]
  },
  {
   "cell_type": "markdown",
   "metadata": {},
   "source": [
    "важность в валид выборке:"
   ]
  },
  {
   "cell_type": "code",
   "execution_count": 279,
   "metadata": {
    "ExecuteTime": {
     "end_time": "2020-07-18T18:37:28.464922Z",
     "start_time": "2020-07-18T18:37:28.344619Z"
    }
   },
   "outputs": [
    {
     "data": {
      "text/html": [
       "<div>\n",
       "<style scoped>\n",
       "    .dataframe tbody tr th:only-of-type {\n",
       "        vertical-align: middle;\n",
       "    }\n",
       "\n",
       "    .dataframe tbody tr th {\n",
       "        vertical-align: top;\n",
       "    }\n",
       "\n",
       "    .dataframe thead th {\n",
       "        text-align: right;\n",
       "    }\n",
       "</style>\n",
       "<table border=\"1\" class=\"dataframe\">\n",
       "  <thead>\n",
       "    <tr style=\"text-align: right;\">\n",
       "      <th></th>\n",
       "      <th>Specs</th>\n",
       "      <th>Score</th>\n",
       "    </tr>\n",
       "  </thead>\n",
       "  <tbody>\n",
       "    <tr>\n",
       "      <th>1</th>\n",
       "      <td>price</td>\n",
       "      <td>2.232550e+08</td>\n",
       "    </tr>\n",
       "    <tr>\n",
       "      <th>4</th>\n",
       "      <td>description_len</td>\n",
       "      <td>7.961180e+05</td>\n",
       "    </tr>\n",
       "    <tr>\n",
       "      <th>6</th>\n",
       "      <td>number_of_words_description</td>\n",
       "      <td>9.149893e+04</td>\n",
       "    </tr>\n",
       "    <tr>\n",
       "      <th>3</th>\n",
       "      <td>city</td>\n",
       "      <td>2.657646e+04</td>\n",
       "    </tr>\n",
       "    <tr>\n",
       "      <th>8</th>\n",
       "      <td>number_of_sentences_description</td>\n",
       "      <td>1.095477e+04</td>\n",
       "    </tr>\n",
       "    <tr>\n",
       "      <th>5</th>\n",
       "      <td>title_len</td>\n",
       "      <td>4.032815e+03</td>\n",
       "    </tr>\n",
       "    <tr>\n",
       "      <th>0</th>\n",
       "      <td>subcategory</td>\n",
       "      <td>3.466630e+03</td>\n",
       "    </tr>\n",
       "    <tr>\n",
       "      <th>2</th>\n",
       "      <td>region</td>\n",
       "      <td>2.304468e+03</td>\n",
       "    </tr>\n",
       "    <tr>\n",
       "      <th>7</th>\n",
       "      <td>number_of_words_title</td>\n",
       "      <td>2.753954e+02</td>\n",
       "    </tr>\n",
       "  </tbody>\n",
       "</table>\n",
       "</div>"
      ],
      "text/plain": [
       "                             Specs         Score\n",
       "1                            price  2.232550e+08\n",
       "4                  description_len  7.961180e+05\n",
       "6      number_of_words_description  9.149893e+04\n",
       "3                             city  2.657646e+04\n",
       "8  number_of_sentences_description  1.095477e+04\n",
       "5                        title_len  4.032815e+03\n",
       "0                      subcategory  3.466630e+03\n",
       "2                           region  2.304468e+03\n",
       "7            number_of_words_title  2.753954e+02"
      ]
     },
     "execution_count": 279,
     "metadata": {},
     "output_type": "execute_result"
    }
   ],
   "source": [
    "import pandas as pd\n",
    "import numpy as np\n",
    "from sklearn.feature_selection import SelectKBest\n",
    "from sklearn.feature_selection import chi2\n",
    "\n",
    "#apply SelectKBest class to extract top 10 best features\n",
    "bestfeatures = SelectKBest(score_func=chi2, k=9)\n",
    "\n",
    "fit = bestfeatures.fit(X_val, y_val)\n",
    "\n",
    "dfscores = pd.DataFrame(fit.scores_)\n",
    "dfcolumns = pd.DataFrame(X_val.columns)\n",
    "\n",
    "#concat two dataframes for better visualization \n",
    "featureScores = pd.concat([dfcolumns,dfscores],axis=1)\n",
    "\n",
    "featureScores.columns = ['Specs','Score']  #naming the dataframe columns\n",
    "\n",
    "featureScores.sort_values(\"Score\", ascending=False)  #print 10 best features"
   ]
  },
  {
   "cell_type": "markdown",
   "metadata": {},
   "source": [
    "важность в трэйн выборке"
   ]
  },
  {
   "cell_type": "code",
   "execution_count": 23,
   "metadata": {
    "ExecuteTime": {
     "end_time": "2020-07-18T21:31:59.000319Z",
     "start_time": "2020-07-18T21:31:58.441906Z"
    }
   },
   "outputs": [
    {
     "data": {
      "text/html": [
       "<div>\n",
       "<style scoped>\n",
       "    .dataframe tbody tr th:only-of-type {\n",
       "        vertical-align: middle;\n",
       "    }\n",
       "\n",
       "    .dataframe tbody tr th {\n",
       "        vertical-align: top;\n",
       "    }\n",
       "\n",
       "    .dataframe thead th {\n",
       "        text-align: right;\n",
       "    }\n",
       "</style>\n",
       "<table border=\"1\" class=\"dataframe\">\n",
       "  <thead>\n",
       "    <tr style=\"text-align: right;\">\n",
       "      <th></th>\n",
       "      <th>Specs</th>\n",
       "      <th>Score</th>\n",
       "    </tr>\n",
       "  </thead>\n",
       "  <tbody>\n",
       "    <tr>\n",
       "      <th>1</th>\n",
       "      <td>price</td>\n",
       "      <td>2.942590e+10</td>\n",
       "    </tr>\n",
       "    <tr>\n",
       "      <th>4</th>\n",
       "      <td>description_len</td>\n",
       "      <td>6.624640e+06</td>\n",
       "    </tr>\n",
       "    <tr>\n",
       "      <th>6</th>\n",
       "      <td>number_of_words_description</td>\n",
       "      <td>8.048406e+05</td>\n",
       "    </tr>\n",
       "    <tr>\n",
       "      <th>3</th>\n",
       "      <td>city</td>\n",
       "      <td>5.222257e+05</td>\n",
       "    </tr>\n",
       "    <tr>\n",
       "      <th>9</th>\n",
       "      <td>title_proba_fraud</td>\n",
       "      <td>2.356239e+05</td>\n",
       "    </tr>\n",
       "    <tr>\n",
       "      <th>10</th>\n",
       "      <td>desc_proba_fraud</td>\n",
       "      <td>9.665996e+04</td>\n",
       "    </tr>\n",
       "    <tr>\n",
       "      <th>8</th>\n",
       "      <td>number_of_sentences_description</td>\n",
       "      <td>7.355239e+04</td>\n",
       "    </tr>\n",
       "    <tr>\n",
       "      <th>5</th>\n",
       "      <td>title_len</td>\n",
       "      <td>5.728590e+04</td>\n",
       "    </tr>\n",
       "    <tr>\n",
       "      <th>0</th>\n",
       "      <td>subcategory</td>\n",
       "      <td>4.684675e+04</td>\n",
       "    </tr>\n",
       "    <tr>\n",
       "      <th>2</th>\n",
       "      <td>region</td>\n",
       "      <td>2.371241e+04</td>\n",
       "    </tr>\n",
       "    <tr>\n",
       "      <th>7</th>\n",
       "      <td>number_of_words_title</td>\n",
       "      <td>3.078759e+03</td>\n",
       "    </tr>\n",
       "  </tbody>\n",
       "</table>\n",
       "</div>"
      ],
      "text/plain": [
       "                              Specs         Score\n",
       "1                             price  2.942590e+10\n",
       "4                   description_len  6.624640e+06\n",
       "6       number_of_words_description  8.048406e+05\n",
       "3                              city  5.222257e+05\n",
       "9                 title_proba_fraud  2.356239e+05\n",
       "10                 desc_proba_fraud  9.665996e+04\n",
       "8   number_of_sentences_description  7.355239e+04\n",
       "5                         title_len  5.728590e+04\n",
       "0                       subcategory  4.684675e+04\n",
       "2                            region  2.371241e+04\n",
       "7             number_of_words_title  3.078759e+03"
      ]
     },
     "execution_count": 23,
     "metadata": {},
     "output_type": "execute_result"
    }
   ],
   "source": [
    "import pandas as pd\n",
    "import numpy as np\n",
    "from sklearn.feature_selection import SelectKBest\n",
    "from sklearn.feature_selection import chi2\n",
    "\n",
    "#apply SelectKBest class to extract top 10 best features\n",
    "bestfeatures = SelectKBest(score_func=chi2, k=10)\n",
    "\n",
    "fit = bestfeatures.fit(X_train, y_train)\n",
    "\n",
    "dfscores = pd.DataFrame(fit.scores_)\n",
    "dfcolumns = pd.DataFrame(X_train.columns)\n",
    "\n",
    "#concat two dataframes for better visualization \n",
    "featureScores = pd.concat([dfcolumns,dfscores],axis=1)\n",
    "\n",
    "featureScores.columns = ['Specs','Score']  #naming the dataframe columns\n",
    "featureScores.sort_values(\"Score\", ascending=False)"
   ]
  },
  {
   "cell_type": "markdown",
   "metadata": {},
   "source": [
    "- важность параметров в валид"
   ]
  },
  {
   "cell_type": "code",
   "execution_count": 276,
   "metadata": {
    "ExecuteTime": {
     "end_time": "2020-07-18T18:36:19.792656Z",
     "start_time": "2020-07-18T18:36:16.133238Z"
    }
   },
   "outputs": [
    {
     "name": "stdout",
     "output_type": "stream",
     "text": [
      "[0.15629667 0.09111886 0.11757632 0.09991651 0.15748314 0.11340715\n",
      " 0.11666542 0.06749682 0.08003912]\n"
     ]
    },
    {
     "data": {
      "image/png": "[encoded data removed]",
      "text/plain": [
       "<Figure size 432x288 with 1 Axes>"
      ]
     },
     "metadata": {
      "needs_background": "light"
     },
     "output_type": "display_data"
    }
   ],
   "source": [
    "import pandas as pd\n",
    "import numpy as np\n",
    "\n",
    "from sklearn.ensemble import ExtraTreesClassifier\n",
    "import matplotlib.pyplot as plt\n",
    "\n",
    "model = ExtraTreesClassifier()\n",
    "model.fit(X_val, y_val)\n",
    "\n",
    "print(model.feature_importances_) #use inbuilt class feature_importances of tree based classifiers\n",
    "#plot graph of feature importances for better visualization\n",
    "\n",
    "feat_importances = pd.Series(model.feature_importances_, index=X_val.columns)\n",
    "feat_importances.nlargest(10).plot(kind='barh')\n",
    "plt.show()"
   ]
  },
  {
   "cell_type": "markdown",
   "metadata": {},
   "source": [
    "- Как можно заметить, наши вспомогательные метрики здорово помогают определять класс фрода. "
   ]
  },
  {
   "cell_type": "markdown",
   "metadata": {},
   "source": [
    "- тест 2, удаление аутлаеров по моим фичам"
   ]
  },
  {
   "cell_type": "code",
   "execution_count": 386,
   "metadata": {
    "ExecuteTime": {
     "end_time": "2020-07-20T15:26:24.433102Z",
     "start_time": "2020-07-20T15:26:24.407068Z"
    },
    "scrolled": true
   },
   "outputs": [
    {
     "data": {
      "text/plain": [
       "Index(['subcategory', 'price', 'region', 'city', 'description_len',\n",
       "       'title_len', 'number_of_words_description', 'number_of_words_title',\n",
       "       'number_of_sentences_description', 'title_proba_fraud',\n",
       "       'desc_proba_fraud'],\n",
       "      dtype='object')"
      ]
     },
     "execution_count": 386,
     "metadata": {},
     "output_type": "execute_result"
    }
   ],
   "source": [
    "X_train.columns"
   ]
  },
  {
   "cell_type": "code",
   "execution_count": null,
   "metadata": {
    "ExecuteTime": {
     "start_time": "2020-07-20T17:05:21.203Z"
    }
   },
   "outputs": [],
   "source": [
    "from imblearn.over_sampling import KMeansSMOTE\n",
    "\n",
    "#random_state=42\n",
    "\n",
    "sm = KMeansSMOTE(random_state=42, cluster_balance_threshold=0.4)\n",
    "X_res, y_res = sm.fit_resample(X_train, y_train)"
   ]
  },
  {
   "cell_type": "code",
   "execution_count": 475,
   "metadata": {
    "ExecuteTime": {
     "end_time": "2020-07-20T17:01:20.089028Z",
     "start_time": "2020-07-20T17:00:36.132011Z"
    },
    "scrolled": true
   },
   "outputs": [
    {
     "name": "stdout",
     "output_type": "stream",
     "text": [
      "Learning rate set to 0.5\n",
      "0:\tlearn: 0.6037064\ttotal: 524ms\tremaining: 57.1s\n",
      "1:\tlearn: 0.5704275\ttotal: 886ms\tremaining: 47.8s\n",
      "2:\tlearn: 0.5475968\ttotal: 1.27s\tremaining: 45.4s\n",
      "3:\tlearn: 0.5301788\ttotal: 1.64s\tremaining: 43.6s\n",
      "4:\tlearn: 0.5183209\ttotal: 2.04s\tremaining: 42.8s\n",
      "5:\tlearn: 0.5109006\ttotal: 2.39s\tremaining: 41.5s\n",
      "6:\tlearn: 0.5016586\ttotal: 2.73s\tremaining: 40.2s\n",
      "7:\tlearn: 0.4951615\ttotal: 3.12s\tremaining: 39.8s\n",
      "8:\tlearn: 0.4846878\ttotal: 3.52s\tremaining: 39.6s\n",
      "9:\tlearn: 0.4790760\ttotal: 3.85s\tremaining: 38.5s\n",
      "10:\tlearn: 0.4724575\ttotal: 4.27s\tremaining: 38.5s\n",
      "11:\tlearn: 0.4694897\ttotal: 4.66s\tremaining: 38s\n",
      "12:\tlearn: 0.4642672\ttotal: 5s\tremaining: 37.3s\n",
      "13:\tlearn: 0.4605479\ttotal: 5.34s\tremaining: 36.6s\n",
      "14:\tlearn: 0.4582006\ttotal: 5.7s\tremaining: 36.1s\n",
      "15:\tlearn: 0.4546684\ttotal: 6.14s\tremaining: 36.1s\n",
      "16:\tlearn: 0.4529040\ttotal: 6.47s\tremaining: 35.4s\n",
      "17:\tlearn: 0.4491492\ttotal: 6.85s\tremaining: 35s\n",
      "18:\tlearn: 0.4464476\ttotal: 7.22s\tremaining: 34.6s\n",
      "19:\tlearn: 0.4442125\ttotal: 7.57s\tremaining: 34.1s\n",
      "20:\tlearn: 0.4409374\ttotal: 7.95s\tremaining: 33.7s\n",
      "21:\tlearn: 0.4387844\ttotal: 8.35s\tremaining: 33.4s\n",
      "22:\tlearn: 0.4369783\ttotal: 8.7s\tremaining: 32.9s\n",
      "23:\tlearn: 0.4346641\ttotal: 9.13s\tremaining: 32.7s\n",
      "24:\tlearn: 0.4316508\ttotal: 9.57s\tremaining: 32.5s\n",
      "25:\tlearn: 0.4294913\ttotal: 9.99s\tremaining: 32.3s\n",
      "26:\tlearn: 0.4284503\ttotal: 10.4s\tremaining: 32s\n",
      "27:\tlearn: 0.4255522\ttotal: 10.8s\tremaining: 31.8s\n",
      "28:\tlearn: 0.4233103\ttotal: 11.3s\tremaining: 31.7s\n",
      "29:\tlearn: 0.4216473\ttotal: 11.7s\tremaining: 31.3s\n",
      "30:\tlearn: 0.4205774\ttotal: 12.1s\tremaining: 30.9s\n",
      "31:\tlearn: 0.4190121\ttotal: 12.6s\tremaining: 30.6s\n",
      "32:\tlearn: 0.4166713\ttotal: 13s\tremaining: 30.4s\n",
      "33:\tlearn: 0.4146509\ttotal: 13.4s\tremaining: 30s\n",
      "34:\tlearn: 0.4137307\ttotal: 13.8s\tremaining: 29.6s\n",
      "35:\tlearn: 0.4123292\ttotal: 14.2s\tremaining: 29.2s\n",
      "36:\tlearn: 0.4114180\ttotal: 14.5s\tremaining: 28.7s\n",
      "37:\tlearn: 0.4103813\ttotal: 14.9s\tremaining: 28.2s\n",
      "38:\tlearn: 0.4096057\ttotal: 15.2s\tremaining: 27.6s\n",
      "39:\tlearn: 0.4087136\ttotal: 15.5s\tremaining: 27.2s\n",
      "40:\tlearn: 0.4075141\ttotal: 15.9s\tremaining: 26.7s\n",
      "41:\tlearn: 0.4059908\ttotal: 16.2s\tremaining: 26.3s\n",
      "42:\tlearn: 0.4051151\ttotal: 16.6s\tremaining: 25.8s\n",
      "43:\tlearn: 0.4040858\ttotal: 17s\tremaining: 25.6s\n",
      "44:\tlearn: 0.4031123\ttotal: 17.4s\tremaining: 25.1s\n",
      "45:\tlearn: 0.4023781\ttotal: 17.9s\tremaining: 24.8s\n",
      "46:\tlearn: 0.4012665\ttotal: 18.3s\tremaining: 24.5s\n",
      "47:\tlearn: 0.4001486\ttotal: 18.7s\tremaining: 24.2s\n",
      "48:\tlearn: 0.3973538\ttotal: 19.3s\tremaining: 24s\n",
      "49:\tlearn: 0.3967280\ttotal: 19.6s\tremaining: 23.5s\n",
      "50:\tlearn: 0.3955448\ttotal: 20s\tremaining: 23.1s\n",
      "51:\tlearn: 0.3945198\ttotal: 20.3s\tremaining: 22.7s\n",
      "52:\tlearn: 0.3936957\ttotal: 20.7s\tremaining: 22.2s\n",
      "53:\tlearn: 0.3926940\ttotal: 21s\tremaining: 21.8s\n",
      "54:\tlearn: 0.3922624\ttotal: 21.3s\tremaining: 21.3s\n",
      "55:\tlearn: 0.3917400\ttotal: 21.7s\tremaining: 20.9s\n",
      "56:\tlearn: 0.3912957\ttotal: 22.1s\tremaining: 20.5s\n",
      "57:\tlearn: 0.3907692\ttotal: 22.5s\tremaining: 20.2s\n",
      "58:\tlearn: 0.3903651\ttotal: 22.8s\tremaining: 19.7s\n",
      "59:\tlearn: 0.3892755\ttotal: 23.2s\tremaining: 19.3s\n",
      "60:\tlearn: 0.3889205\ttotal: 23.5s\tremaining: 18.9s\n",
      "61:\tlearn: 0.3878722\ttotal: 24s\tremaining: 18.5s\n",
      "62:\tlearn: 0.3869693\ttotal: 24.3s\tremaining: 18.1s\n",
      "63:\tlearn: 0.3851886\ttotal: 24.7s\tremaining: 17.8s\n",
      "64:\tlearn: 0.3845483\ttotal: 25.1s\tremaining: 17.3s\n",
      "65:\tlearn: 0.3837841\ttotal: 25.4s\tremaining: 16.9s\n",
      "66:\tlearn: 0.3832805\ttotal: 25.7s\tremaining: 16.5s\n",
      "67:\tlearn: 0.3824512\ttotal: 26.1s\tremaining: 16.1s\n",
      "68:\tlearn: 0.3815669\ttotal: 26.4s\tremaining: 15.7s\n",
      "69:\tlearn: 0.3806994\ttotal: 26.8s\tremaining: 15.3s\n",
      "70:\tlearn: 0.3800651\ttotal: 27.1s\tremaining: 14.9s\n",
      "71:\tlearn: 0.3795728\ttotal: 27.5s\tremaining: 14.5s\n",
      "72:\tlearn: 0.3790457\ttotal: 27.8s\tremaining: 14.1s\n",
      "73:\tlearn: 0.3785611\ttotal: 28.2s\tremaining: 13.7s\n",
      "74:\tlearn: 0.3779470\ttotal: 28.5s\tremaining: 13.3s\n",
      "75:\tlearn: 0.3770965\ttotal: 28.9s\tremaining: 12.9s\n",
      "76:\tlearn: 0.3767148\ttotal: 29.2s\tremaining: 12.5s\n",
      "77:\tlearn: 0.3763897\ttotal: 29.5s\tremaining: 12.1s\n",
      "78:\tlearn: 0.3759006\ttotal: 29.9s\tremaining: 11.7s\n",
      "79:\tlearn: 0.3753585\ttotal: 30.2s\tremaining: 11.3s\n",
      "80:\tlearn: 0.3750057\ttotal: 30.5s\tremaining: 10.9s\n",
      "81:\tlearn: 0.3743787\ttotal: 30.8s\tremaining: 10.5s\n",
      "82:\tlearn: 0.3740546\ttotal: 31.2s\tremaining: 10.1s\n",
      "83:\tlearn: 0.3731370\ttotal: 31.5s\tremaining: 9.76s\n",
      "84:\tlearn: 0.3720451\ttotal: 32s\tremaining: 9.4s\n",
      "85:\tlearn: 0.3718572\ttotal: 32.3s\tremaining: 9.02s\n",
      "86:\tlearn: 0.3715960\ttotal: 32.6s\tremaining: 8.62s\n",
      "87:\tlearn: 0.3710863\ttotal: 33s\tremaining: 8.25s\n",
      "88:\tlearn: 0.3705199\ttotal: 33.4s\tremaining: 7.88s\n",
      "89:\tlearn: 0.3702138\ttotal: 33.7s\tremaining: 7.5s\n",
      "90:\tlearn: 0.3696590\ttotal: 34.1s\tremaining: 7.12s\n",
      "91:\tlearn: 0.3690697\ttotal: 34.5s\tremaining: 6.74s\n",
      "92:\tlearn: 0.3686982\ttotal: 34.8s\tremaining: 6.36s\n",
      "93:\tlearn: 0.3682139\ttotal: 35.2s\tremaining: 6s\n",
      "94:\tlearn: 0.3676346\ttotal: 35.6s\tremaining: 5.62s\n",
      "95:\tlearn: 0.3673934\ttotal: 36s\tremaining: 5.24s\n",
      "96:\tlearn: 0.3670333\ttotal: 36.3s\tremaining: 4.86s\n",
      "97:\tlearn: 0.3666508\ttotal: 36.6s\tremaining: 4.49s\n",
      "98:\tlearn: 0.3662326\ttotal: 37.1s\tremaining: 4.12s\n",
      "99:\tlearn: 0.3656960\ttotal: 37.7s\tremaining: 3.77s\n",
      "100:\tlearn: 0.3650862\ttotal: 38.4s\tremaining: 3.42s\n",
      "101:\tlearn: 0.3647567\ttotal: 38.8s\tremaining: 3.04s\n",
      "102:\tlearn: 0.3644202\ttotal: 39.3s\tremaining: 2.67s\n",
      "103:\tlearn: 0.3640116\ttotal: 39.7s\tremaining: 2.29s\n",
      "104:\tlearn: 0.3633050\ttotal: 40.1s\tremaining: 1.91s\n",
      "105:\tlearn: 0.3629396\ttotal: 40.4s\tremaining: 1.52s\n",
      "106:\tlearn: 0.3626167\ttotal: 40.6s\tremaining: 1.14s\n",
      "107:\tlearn: 0.3624458\ttotal: 40.9s\tremaining: 758ms\n",
      "108:\tlearn: 0.3622006\ttotal: 41.2s\tremaining: 378ms\n",
      "109:\tlearn: 0.3619023\ttotal: 41.5s\tremaining: 0us\n"
     ]
    }
   ],
   "source": [
    "r_s = range(70,80)\n",
    "r_s_sampl = range(40,50)\n",
    "\n",
    "r_scores = {}\n",
    "\n",
    "for r_1 in r_s_sampl:\n",
    "    ros = RandomUnderSampler(random_state=r_1)\n",
    "\n",
    "    X_resampled, y_resampled = ros.fit_sample(X_train, y_train)\n",
    "    \n",
    "    for r_2 in r_s:\n",
    "model = CatBoostClassifier(random_state=16, \n",
    "                            iterations=110,\n",
    "                            learning_rate=0.2,\n",
    "                            depth=6,\n",
    "                            scale_pos_weight=0.1\n",
    "                            random_strength = 110\n",
    "                            )\n",
    "\n",
    "model.fit(X_res, y_res)\n",
    "        \n",
    "y_pred = model.predict(X_val)\n",
    "\n",
    "r_scores[f\"sampling {r_1} catboost {r_2}\"] = roc_auc_score(y_pred, y_val)"
   ]
  },
  {
   "cell_type": "code",
   "execution_count": 477,
   "metadata": {
    "ExecuteTime": {
     "end_time": "2020-07-20T17:01:26.289137Z",
     "start_time": "2020-07-20T17:01:26.282582Z"
    }
   },
   "outputs": [
    {
     "data": {
      "text/plain": [
       "{'sampling 40 catboost 74': 0.6427329080721907}"
      ]
     },
     "execution_count": 477,
     "metadata": {},
     "output_type": "execute_result"
    }
   ],
   "source": [
    "r_scores"
   ]
  },
  {
   "cell_type": "code",
   "execution_count": 111,
   "metadata": {
    "ExecuteTime": {
     "end_time": "2020-07-18T22:15:37.987164Z",
     "start_time": "2020-07-18T22:15:37.973023Z"
    }
   },
   "outputs": [
    {
     "data": {
      "text/plain": [
       "0.8622355706450772"
      ]
     },
     "execution_count": 111,
     "metadata": {},
     "output_type": "execute_result"
    }
   ],
   "source": [
    "#best\n",
    "roc_auc_score(y_pred, y_val)\n",
    "\n",
    "random_state=16, \n",
    "iterations=110,\n",
    "learning_rate=0.2,\n",
    "depth=6,\n",
    "scale_pos_weight=0.1\n",
    "random_strength = 110\n",
    "\n",
    "0.8794642857142857"
   ]
  },
  {
   "cell_type": "code",
   "execution_count": 428,
   "metadata": {
    "ExecuteTime": {
     "end_time": "2020-07-20T16:20:16.422359Z",
     "start_time": "2020-07-20T16:20:16.229814Z"
    }
   },
   "outputs": [
    {
     "data": {
      "text/plain": [
       "array([[11645,  3703],\n",
       "       [    0,    24]])"
      ]
     },
     "execution_count": 428,
     "metadata": {},
     "output_type": "execute_result"
    }
   ],
   "source": [
    "from sklearn.metrics import confusion_matrix\n",
    "\n",
    "confusion_matrix(y_pred, y_val)"
   ]
  },
  {
   "cell_type": "code",
   "execution_count": 434,
   "metadata": {
    "ExecuteTime": {
     "end_time": "2020-07-20T16:21:48.591530Z",
     "start_time": "2020-07-20T16:21:48.490294Z"
    }
   },
   "outputs": [
    {
     "data": {
      "text/plain": [
       "['avito_model_88%.pkl']"
      ]
     },
     "execution_count": 434,
     "metadata": {},
     "output_type": "execute_result"
    }
   ],
   "source": [
    "# from sklearn.externals import joblib\n",
    "\n",
    "# joblib.dump(model, \"avito_model_88%.pkl\")"
   ]
  }
 ],
 "metadata": {
  "kernelspec": {
   "display_name": "Python 3",
   "language": "python",
   "name": "python3"
  },
  "language_info": {
   "codemirror_mode": {
    "name": "ipython",
    "version": 3
   },
   "file_extension": ".py",
   "mimetype": "text/x-python",
   "name": "python",
   "nbconvert_exporter": "python",
   "pygments_lexer": "ipython3",
   "version": "3.7.3"
  },
  "notify_time": "5",
  "toc": {
   "base_numbering": 1,
   "nav_menu": {},
   "number_sections": true,
   "sideBar": true,
   "skip_h1_title": false,
   "title_cell": "Table of Contents",
   "title_sidebar": "Contents",
   "toc_cell": false,
   "toc_position": {},
   "toc_section_display": true,
   "toc_window_display": false
  }
 },
 "nbformat": 4,
 "nbformat_minor": 2
}
