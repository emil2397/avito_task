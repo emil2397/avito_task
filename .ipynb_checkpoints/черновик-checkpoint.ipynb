{
 "cells": [
  {
   "cell_type": "code",
   "execution_count": 119,
   "metadata": {
    "ExecuteTime": {
     "end_time": "2020-07-17T15:43:23.024095Z",
     "start_time": "2020-07-17T15:43:20.833490Z"
    }
   },
   "outputs": [],
   "source": [
    "fraud = avito_data[avito_data[\"is_bad\"]==1].copy()"
   ]
  },
  {
   "cell_type": "code",
   "execution_count": 121,
   "metadata": {
    "ExecuteTime": {
     "end_time": "2020-07-17T15:43:40.930553Z",
     "start_time": "2020-07-17T15:43:23.066030Z"
    }
   },
   "outputs": [],
   "source": [
    "fraud[\"#_of_digits\"] = fraud[\"description\"].apply(count_digits)"
   ]
  },
  {
   "cell_type": "code",
   "execution_count": 175,
   "metadata": {
    "ExecuteTime": {
     "end_time": "2020-07-17T16:23:19.286503Z",
     "start_time": "2020-07-17T16:23:19.279943Z"
    }
   },
   "outputs": [],
   "source": [
    "# цифрами точно не передан номер, с учетом домашнего телефона\n",
    "fraud[\"phone_number_NOT_given_with_digits\"] = fraud[\"#_of_digits\"] < 6"
   ]
  },
  {
   "cell_type": "code",
   "execution_count": 131,
   "metadata": {
    "ExecuteTime": {
     "end_time": "2020-07-17T15:57:23.082556Z",
     "start_time": "2020-07-17T15:57:17.366613Z"
    }
   },
   "outputs": [],
   "source": []
  },
  {
   "cell_type": "code",
   "execution_count": 153,
   "metadata": {
    "ExecuteTime": {
     "end_time": "2020-07-17T16:10:14.211947Z",
     "start_time": "2020-07-17T16:10:13.414424Z"
    }
   },
   "outputs": [],
   "source": [
    "fraud[\"contains_link\"] = fraud[\"description\"].str.contains(\"https://\") |\\\n",
    "                            fraud[\"description\"].str.contains(\".ru\")\n",
    "\n",
    "fraud[\"contains_vk\"] = fraud[\"description\"].str.contains(\"vk\") | \\\n",
    "                        fraud[\"description\"].str.contains(\"вконтакте\") | \\\n",
    "                        fraud[\"description\"].str.contains(\"в контакте\")\n",
    "\n",
    "fraud[\"contains_inst\"] = fraud[\"description\"].str.contains(\"instagram\") | \\\n",
    "                        fraud[\"description\"].str.contains(\"инстагр\")\n",
    "\n",
    "fraud[\"contains_fb\"] = fraud[\"description\"].str.contains(\"facebook\") | \\\n",
    "                        fraud[\"description\"].str.contains(\"фейсбук\")"
   ]
  },
  {
   "cell_type": "code",
   "execution_count": 161,
   "metadata": {
    "ExecuteTime": {
     "end_time": "2020-07-17T16:14:38.532843Z",
     "start_time": "2020-07-17T16:14:35.519992Z"
    }
   },
   "outputs": [],
   "source": [
    "# точные кейсы, где содержится номер телефона\n",
    "fraud[\"contains_phone_number\"] = fraud[\"description\"]\\\n",
    "                                .str.contains(\"^((8|\\+7)[\\- ]?)?(\\(?\\d{3}\\)?[\\- ]?)?[\\d\\- ]{7,10}$\") \n"
   ]
  },
  {
   "cell_type": "code",
   "execution_count": 189,
   "metadata": {
    "ExecuteTime": {
     "end_time": "2020-07-17T16:32:42.445370Z",
     "start_time": "2020-07-17T16:32:41.948078Z"
    }
   },
   "outputs": [],
   "source": [
    "developed_fraud = fraud.query(\"phone_number_NOT_given_with_digits == False or contains_word_number == True or \\\n",
    "            contains_link == True or contains_vk == True or contains_inst == True or \\\n",
    "            contains_fb == True or contains_phone_number==True\").copy()"
   ]
  },
  {
   "cell_type": "code",
   "execution_count": 190,
   "metadata": {
    "ExecuteTime": {
     "end_time": "2020-07-17T16:32:42.524173Z",
     "start_time": "2020-07-17T16:32:42.515943Z"
    }
   },
   "outputs": [
    {
     "data": {
      "text/plain": [
       "(232003, 17)"
      ]
     },
     "execution_count": 190,
     "metadata": {},
     "output_type": "execute_result"
    }
   ],
   "source": [
    "developed_fraud.shape"
   ]
  },
  {
   "cell_type": "code",
   "execution_count": 195,
   "metadata": {
    "ExecuteTime": {
     "end_time": "2020-07-17T16:34:45.710191Z",
     "start_time": "2020-07-17T16:34:45.344814Z"
    }
   },
   "outputs": [],
   "source": [
    "avito_data.loc[avito_data.index.isin(developed_fraud.index), \"fraud_developed\"] = 1\n",
    "avito_data.loc[~(avito_data.index.isin(developed_fraud.index)), \"fraud_developed\"] = 0"
   ]
  },
  {
   "cell_type": "code",
   "execution_count": 196,
   "metadata": {
    "ExecuteTime": {
     "end_time": "2020-07-17T16:34:47.730556Z",
     "start_time": "2020-07-17T16:34:47.521188Z"
    }
   },
   "outputs": [
    {
     "data": {
      "text/plain": [
       "0.0    752484\n",
       "1.0    232003\n",
       "Name: fraud_developed, dtype: int64"
      ]
     },
     "execution_count": 196,
     "metadata": {},
     "output_type": "execute_result"
    }
   ],
   "source": [
    "avito_data[\"fraud_developed\"].value_counts()"
   ]
  },
  {
   "cell_type": "code",
   "execution_count": 204,
   "metadata": {
    "ExecuteTime": {
     "end_time": "2020-07-17T16:42:32.048983Z",
     "start_time": "2020-07-17T16:42:29.108220Z"
    }
   },
   "outputs": [
    {
     "data": {
      "text/plain": [
       "Транспорт              0.055086\n",
       "Недвижимость           0.037067\n",
       "Для дома и дачи        0.029941\n",
       "Услуги                 0.027700\n",
       "Личные вещи            0.026877\n",
       "Бытовая электроника    0.020430\n",
       "Животные               0.017248\n",
       "Хобби и отдых          0.010184\n",
       "Работа                 0.009377\n",
       "Для бизнеса            0.001749\n",
       "Name: category, dtype: float64"
      ]
     },
     "execution_count": 204,
     "metadata": {},
     "output_type": "execute_result"
    }
   ],
   "source": [
    "avito_data[avito_data[\"fraud_developed\"]==1][\"category\"].value_counts()/avito_data.shape[0]"
   ]
  },
  {
   "cell_type": "code",
   "execution_count": 203,
   "metadata": {
    "ExecuteTime": {
     "end_time": "2020-07-17T16:42:27.962528Z",
     "start_time": "2020-07-17T16:42:27.538985Z"
    },
    "scrolled": true
   },
   "outputs": [
    {
     "data": {
      "text/plain": [
       "Транспорт              0.212518\n",
       "Личные вещи            0.202801\n",
       "Бытовая электроника    0.154529\n",
       "Для дома и дачи        0.134202\n",
       "Недвижимость           0.102384\n",
       "Хобби и отдых          0.065308\n",
       "Услуги                 0.057574\n",
       "Животные               0.031916\n",
       "Работа                 0.026621\n",
       "Для бизнеса            0.012146\n",
       "Name: category, dtype: float64"
      ]
     },
     "execution_count": 203,
     "metadata": {},
     "output_type": "execute_result"
    }
   ],
   "source": [
    "avito_data[\"category\"].value_counts()/avito_data.shape[0]"
   ]
  },
  {
   "cell_type": "markdown",
   "metadata": {},
   "source": [
    "## подготовка данных к модели"
   ]
  },
  {
   "cell_type": "code",
   "execution_count": 208,
   "metadata": {
    "ExecuteTime": {
     "end_time": "2020-07-17T16:46:48.750006Z",
     "start_time": "2020-07-17T16:46:48.660070Z"
    }
   },
   "outputs": [
    {
     "data": {
      "text/html": [
       "<div>\n",
       "<style scoped>\n",
       "    .dataframe tbody tr th:only-of-type {\n",
       "        vertical-align: middle;\n",
       "    }\n",
       "\n",
       "    .dataframe tbody tr th {\n",
       "        vertical-align: top;\n",
       "    }\n",
       "\n",
       "    .dataframe thead th {\n",
       "        text-align: right;\n",
       "    }\n",
       "</style>\n",
       "<table border=\"1\" class=\"dataframe\">\n",
       "  <thead>\n",
       "    <tr style=\"text-align: right;\">\n",
       "      <th></th>\n",
       "      <th>title</th>\n",
       "      <th>description</th>\n",
       "      <th>subcategory</th>\n",
       "      <th>category</th>\n",
       "      <th>price</th>\n",
       "      <th>region</th>\n",
       "      <th>city</th>\n",
       "      <th>datetime_submitted</th>\n",
       "      <th>is_bad</th>\n",
       "      <th>fraud_developed</th>\n",
       "    </tr>\n",
       "  </thead>\n",
       "  <tbody>\n",
       "    <tr>\n",
       "      <th>0</th>\n",
       "      <td>Диван-кровать</td>\n",
       "      <td>Продаем диван-кровать. Удобный механизм - евро...</td>\n",
       "      <td>Мебель и интерьер</td>\n",
       "      <td>Для дома и дачи</td>\n",
       "      <td>7000.0</td>\n",
       "      <td>Россия</td>\n",
       "      <td>Москва</td>\n",
       "      <td>2019-06-01 00:00:15.180656</td>\n",
       "      <td>0</td>\n",
       "      <td>0.0</td>\n",
       "    </tr>\n",
       "    <tr>\n",
       "      <th>1</th>\n",
       "      <td>Кожух рулевой колонки Даф хф 91 4509834</td>\n",
       "      <td>Кожух рулевой колонки DAF XF 94 (60066004)/\\n ...</td>\n",
       "      <td>Запчасти и аксессуары</td>\n",
       "      <td>Транспорт</td>\n",
       "      <td>2290.0</td>\n",
       "      <td>Россия</td>\n",
       "      <td>Москва</td>\n",
       "      <td>2019-06-01 00:00:44.317933</td>\n",
       "      <td>0</td>\n",
       "      <td>0.0</td>\n",
       "    </tr>\n",
       "    <tr>\n",
       "      <th>2</th>\n",
       "      <td>Дешёвый буст аккаунтов Dota 4</td>\n",
       "      <td>! Буст аккаунтов с ммр выше 1000ммр не беру ! ...</td>\n",
       "      <td>Предложение услуг</td>\n",
       "      <td>Услуги</td>\n",
       "      <td>200.0</td>\n",
       "      <td>Северная Осетия</td>\n",
       "      <td>Владикавказ</td>\n",
       "      <td>2019-06-01 00:00:50.249692</td>\n",
       "      <td>1</td>\n",
       "      <td>1.0</td>\n",
       "    </tr>\n",
       "    <tr>\n",
       "      <th>3</th>\n",
       "      <td>Телевизор sharp.Смарт тв.Интернет</td>\n",
       "      <td>Продам телевизор . Диагональ 450.наличие входа...</td>\n",
       "      <td>Аудио и видео</td>\n",
       "      <td>Бытовая электроника</td>\n",
       "      <td>25000.0</td>\n",
       "      <td>Калининградская область</td>\n",
       "      <td>Советск</td>\n",
       "      <td>2019-06-01 00:00:50.325799</td>\n",
       "      <td>1</td>\n",
       "      <td>0.0</td>\n",
       "    </tr>\n",
       "    <tr>\n",
       "      <th>4</th>\n",
       "      <td>Открытка-конверт</td>\n",
       "      <td>Открытки-конверты ручной работы/\\nВыполнены в ...</td>\n",
       "      <td>Коллекционирование</td>\n",
       "      <td>Хобби и отдых</td>\n",
       "      <td>150.0</td>\n",
       "      <td>Ставропольский край</td>\n",
       "      <td>Ессентукская</td>\n",
       "      <td>2019-06-01 00:00:56.632655</td>\n",
       "      <td>0</td>\n",
       "      <td>0.0</td>\n",
       "    </tr>\n",
       "  </tbody>\n",
       "</table>\n",
       "</div>"
      ],
      "text/plain": [
       "                                     title  \\\n",
       "0                            Диван-кровать   \n",
       "1  Кожух рулевой колонки Даф хф 91 4509834   \n",
       "2            Дешёвый буст аккаунтов Dota 4   \n",
       "3        Телевизор sharp.Смарт тв.Интернет   \n",
       "4                         Открытка-конверт   \n",
       "\n",
       "                                         description            subcategory  \\\n",
       "0  Продаем диван-кровать. Удобный механизм - евро...      Мебель и интерьер   \n",
       "1  Кожух рулевой колонки DAF XF 94 (60066004)/\\n ...  Запчасти и аксессуары   \n",
       "2  ! Буст аккаунтов с ммр выше 1000ммр не беру ! ...      Предложение услуг   \n",
       "3  Продам телевизор . Диагональ 450.наличие входа...          Аудио и видео   \n",
       "4  Открытки-конверты ручной работы/\\nВыполнены в ...     Коллекционирование   \n",
       "\n",
       "              category    price                   region          city  \\\n",
       "0      Для дома и дачи   7000.0                   Россия        Москва   \n",
       "1            Транспорт   2290.0                   Россия        Москва   \n",
       "2               Услуги    200.0          Северная Осетия   Владикавказ   \n",
       "3  Бытовая электроника  25000.0  Калининградская область       Советск   \n",
       "4        Хобби и отдых    150.0      Ставропольский край  Ессентукская   \n",
       "\n",
       "           datetime_submitted  is_bad  fraud_developed  \n",
       "0  2019-06-01 00:00:15.180656       0              0.0  \n",
       "1  2019-06-01 00:00:44.317933       0              0.0  \n",
       "2  2019-06-01 00:00:50.249692       1              1.0  \n",
       "3  2019-06-01 00:00:50.325799       1              0.0  \n",
       "4  2019-06-01 00:00:56.632655       0              0.0  "
      ]
     },
     "execution_count": 208,
     "metadata": {},
     "output_type": "execute_result"
    }
   ],
   "source": [
    "avito_data.head()"
   ]
  },
  {
   "cell_type": "code",
   "execution_count": 209,
   "metadata": {
    "ExecuteTime": {
     "end_time": "2020-07-17T16:49:21.008933Z",
     "start_time": "2020-07-17T16:49:20.323096Z"
    }
   },
   "outputs": [],
   "source": [
    "avito_data_prepared = avito_data[[\"subcategory\", \"category\", \"price\", \"region\", \\\n",
    "                                  \"city\", \"fraud_developed\"]].copy()"
   ]
  },
  {
   "cell_type": "code",
   "execution_count": 218,
   "metadata": {
    "ExecuteTime": {
     "end_time": "2020-07-17T17:03:21.891123Z",
     "start_time": "2020-07-17T17:03:21.708468Z"
    }
   },
   "outputs": [
    {
     "data": {
      "text/plain": [
       "['Бытовая электроника',\n",
       " 'Для бизнеса',\n",
       " 'Для дома и дачи',\n",
       " 'Животные',\n",
       " 'Личные вещи',\n",
       " 'Недвижимость',\n",
       " 'Работа',\n",
       " 'Транспорт',\n",
       " 'Услуги',\n",
       " 'Хобби и отдых']"
      ]
     },
     "execution_count": 218,
     "metadata": {},
     "output_type": "execute_result"
    }
   ],
   "source": [
    "sorted(avito_data_prepared[\"category\"].unique())"
   ]
  },
  {
   "cell_type": "markdown",
   "metadata": {},
   "source": [
    "### one_hot_encoding для столбца \"category\""
   ]
  },
  {
   "cell_type": "markdown",
   "metadata": {},
   "source": [
    "- т.к. cardinality (мощность) тут маленькая и можно применить с легкостью one_hot_encoding"
   ]
  },
  {
   "cell_type": "code",
   "execution_count": 221,
   "metadata": {
    "ExecuteTime": {
     "end_time": "2020-07-17T17:11:53.207234Z",
     "start_time": "2020-07-17T17:11:52.832917Z"
    }
   },
   "outputs": [],
   "source": [
    "category = pd.get_dummies(avito_data_prepared[\"category\"], prefix='category')"
   ]
  },
  {
   "cell_type": "code",
   "execution_count": 225,
   "metadata": {
    "ExecuteTime": {
     "end_time": "2020-07-17T17:17:51.471323Z",
     "start_time": "2020-07-17T17:17:51.158395Z"
    }
   },
   "outputs": [],
   "source": [
    "avito_data_prepared = pd.concat([avito_data_prepared.drop(\"category\", axis=1), category], axis=1)"
   ]
  },
  {
   "cell_type": "code",
   "execution_count": 230,
   "metadata": {
    "ExecuteTime": {
     "end_time": "2020-07-17T17:25:02.761351Z",
     "start_time": "2020-07-17T17:25:02.362980Z"
    }
   },
   "outputs": [],
   "source": [
    "avito_data_prepared = avito_data_prepared.rename(columns={'category_Бытовая электроника': \"category_consumer_electronics\",\n",
    "                                     'category_Для бизнеса': \"category_for_business\",\n",
    "                                     'category_Для дома и дачи': \"category_for_house\", \n",
    "                                     'category_Животные': \"category_animals\", \n",
    "                                     'category_Личные вещи': \"category_personal_belongings\",\n",
    "                                     'category_Недвижимость': \"category_real_estate\", \n",
    "                                     'category_Работа': \"category_job\", \n",
    "                                     'category_Транспорт': \"category_transport\",\n",
    "                                     'category_Услуги': \"category_services\", \n",
    "                                     'category_Хобби и отдых': \"category_hobby_rest\"})"
   ]
  },
  {
   "cell_type": "markdown",
   "metadata": {},
   "source": [
    "### Label encoding"
   ]
  },
  {
   "cell_type": "markdown",
   "metadata": {},
   "source": [
    "- тут мощность столбца высокая, лучше сделать обычный label_encoding"
   ]
  },
  {
   "cell_type": "code",
   "execution_count": 236,
   "metadata": {
    "ExecuteTime": {
     "end_time": "2020-07-17T17:36:17.810630Z",
     "start_time": "2020-07-17T17:36:17.772249Z"
    }
   },
   "outputs": [
    {
     "data": {
      "text/plain": [
       "Index(['subcategory', 'price', 'region', 'city', 'fraud_developed',\n",
       "       'category_consumer_electronics', 'category_for_business',\n",
       "       'category_for_house', 'category_animals',\n",
       "       'category_personal_belongings', 'category_real_estate', 'category_job',\n",
       "       'category_transport', 'category_services', 'category_hobby_rest'],\n",
       "      dtype='object')"
      ]
     },
     "execution_count": 236,
     "metadata": {},
     "output_type": "execute_result"
    }
   ],
   "source": [
    "avito_data_prepared.columns"
   ]
  },
  {
   "cell_type": "code",
   "execution_count": 238,
   "metadata": {
    "ExecuteTime": {
     "end_time": "2020-07-17T17:40:19.471708Z",
     "start_time": "2020-07-17T17:40:18.208397Z"
    }
   },
   "outputs": [],
   "source": [
    "label_encoder = LabelEncoder()\n",
    "\n",
    "object_cols = ['subcategory', 'region', 'city']\n",
    "\n",
    "for col in object_cols:\n",
    "    avito_data_prepared[col] = label_encoder.fit_transform(avito_data_prepared[col])"
   ]
  },
  {
   "cell_type": "markdown",
   "metadata": {},
   "source": [
    "## Обработка пропущенных значений"
   ]
  },
  {
   "cell_type": "code",
   "execution_count": 257,
   "metadata": {
    "ExecuteTime": {
     "end_time": "2020-07-17T18:00:14.338302Z",
     "start_time": "2020-07-17T18:00:14.151184Z"
    }
   },
   "outputs": [
    {
     "data": {
      "text/plain": [
       "subcategory                          0\n",
       "price                            58048\n",
       "region                               0\n",
       "city                                 0\n",
       "fraud_developed                      0\n",
       "category_consumer_electronics        0\n",
       "category_for_business                0\n",
       "category_for_house                   0\n",
       "category_animals                     0\n",
       "category_personal_belongings         0\n",
       "category_real_estate                 0\n",
       "category_job                         0\n",
       "category_transport                   0\n",
       "category_services                    0\n",
       "category_hobby_rest                  0\n",
       "dtype: int64"
      ]
     },
     "execution_count": 257,
     "metadata": {},
     "output_type": "execute_result"
    }
   ],
   "source": [
    "avito_data_prepared.isnull().sum(axis = 0)"
   ]
  },
  {
   "cell_type": "markdown",
   "metadata": {},
   "source": [
    "- Наилучшим решением мне представляется замена на среднее значение по субкатегории"
   ]
  },
  {
   "cell_type": "code",
   "execution_count": 287,
   "metadata": {
    "ExecuteTime": {
     "end_time": "2020-07-17T18:07:04.889397Z",
     "start_time": "2020-07-17T18:07:04.710377Z"
    }
   },
   "outputs": [],
   "source": [
    "avito_data_prepared[\"price\"] = avito_data_prepared.loc[:,\"price\"].\\\n",
    "                               fillna(avito_data_prepared.groupby(\"subcategory\")[\"price\"]\\\n",
    "                               .transform(\"mean\")).copy()"
   ]
  },
  {
   "cell_type": "code",
   "execution_count": null,
   "metadata": {},
   "outputs": [],
   "source": []
  }
 ],
 "metadata": {
  "kernelspec": {
   "display_name": "Python 3",
   "language": "python",
   "name": "python3"
  },
  "language_info": {
   "codemirror_mode": {
    "name": "ipython",
    "version": 3
   },
   "file_extension": ".py",
   "mimetype": "text/x-python",
   "name": "python",
   "nbconvert_exporter": "python",
   "pygments_lexer": "ipython3",
   "version": "3.7.3"
  },
  "toc": {
   "base_numbering": 1,
   "nav_menu": {},
   "number_sections": true,
   "sideBar": true,
   "skip_h1_title": false,
   "title_cell": "Table of Contents",
   "title_sidebar": "Contents",
   "toc_cell": false,
   "toc_position": {},
   "toc_section_display": true,
   "toc_window_display": false
  }
 },
 "nbformat": 4,
 "nbformat_minor": 2
}
