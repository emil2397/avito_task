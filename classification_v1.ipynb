{
 "cells": [
  {
   "cell_type": "code",
   "execution_count": 251,
   "metadata": {
    "ExecuteTime": {
     "end_time": "2020-07-18T18:27:25.334820Z",
     "start_time": "2020-07-18T18:27:25.145484Z"
    }
   },
   "outputs": [],
   "source": [
    "import pandas as pd\n",
    "import numpy as np\n",
    "import warnings\n",
    "\n",
    "\n",
    "from sklearn.preprocessing import OneHotEncoder\n",
    "from sklearn.preprocessing import LabelEncoder\n",
    "from sklearn.metrics import roc_auc_score\n",
    "from imblearn.under_sampling import RandomUnderSampler\n",
    "from imblearn.over_sampling import RandomOverSampler\n",
    "from catboost import CatBoostClassifier\n",
    "\n",
    "\n",
    "warnings.filterwarnings(action=\"ignore\")"
   ]
  },
  {
   "cell_type": "code",
   "execution_count": 2,
   "metadata": {
    "ExecuteTime": {
     "end_time": "2020-07-18T13:59:40.123730Z",
     "start_time": "2020-07-18T13:59:14.392698Z"
    }
   },
   "outputs": [],
   "source": [
    "train_avito_data = pd.read_csv(\"data/train.csv\")"
   ]
  },
  {
   "cell_type": "code",
   "execution_count": 3,
   "metadata": {
    "ExecuteTime": {
     "end_time": "2020-07-18T13:59:40.649544Z",
     "start_time": "2020-07-18T13:59:40.134074Z"
    }
   },
   "outputs": [],
   "source": [
    "val_avito_data = pd.read_csv(\"data/val.csv\")"
   ]
  },
  {
   "cell_type": "markdown",
   "metadata": {},
   "source": [
    "# Подготовка данных\n",
    "\n",
    "1) выделим параметры `phone_number_NOT_given_with_digits`, `contains_phone_number`, `contains_link`, `contains_vk`, `contains_fb`, `contains_instagram`. Затем сохраним те, которые будут соответствовать фродовому случаю.\n",
    "\n",
    "2) По-моему мнению, в контексте авито, чтобы не портить опыт пользователей продавцов (которые приносят основный доход) в нашем случае лучше недоловить фродстеров (мошенников), чем переловить даже неважные кейсы. Другими словами помечать только те кейсы, где есть явный паттерн нарушения.\n"
   ]
  },
  {
   "cell_type": "code",
   "execution_count": 270,
   "metadata": {
    "ExecuteTime": {
     "end_time": "2020-07-18T18:34:05.553382Z",
     "start_time": "2020-07-18T18:34:05.399025Z"
    }
   },
   "outputs": [],
   "source": [
    "# для подсчета цифр в тексте\n",
    "def count_digits(string):\n",
    "    return sum(item.isdigit() for item in string)\n",
    "\n",
    "def prepare_data(train_data=None, val_data=None):\n",
    "    \n",
    "    if train_data is not None and val_data is None:\n",
    "        df = train_data.copy()\n",
    "    if val_data is not None and train_data is not None:\n",
    "        df = val_data.copy()\n",
    "    \n",
    "    # т.к. мы знаем, что в val данные достаточно точные, поэтому трогать мы их не будем\n",
    "    # а в train обязательно будем\n",
    "    if train_data is not None and val_data is None:\n",
    "        fraud = df[df[\"is_bad\"]==1].copy()\n",
    "        \n",
    "        fraud[\"description_title\"] = fraud[\"description\"] + \" \" + fraud[\"title\"]\n",
    "        \n",
    "        fraud[\"#_of_digits\"] = fraud[\"description_title\"].apply(count_digits)\n",
    "\n",
    "        # цифрами точно не передан номер, с учетом домашнего телефона\n",
    "        fraud[\"phone_number_NOT_given_with_digits\"] = fraud[\"#_of_digits\"] < 6\n",
    "        \n",
    "        # слова-цифры\n",
    "        words_numbers = [\"ноль\",\"один\",\"два\", \"три\", \"четыре\", \"пять\", \"шесть\", \"семь\",\"девять\", \"десять\",\n",
    "                    \"одиннадцать\", \"двеннадцать\", \"триннадцать\", \"четырнадцать\", \"пятнадцать\", \"шесть\"\n",
    "                    \"шестнадцать\",\"семнадцать\",\"восемнадцать\",\"девятнадцать\",\"двадцать\",\"тридцать\",\n",
    "                    \"сорок\",\"пятьдесят\",\"шестьдесят\",\"семьдесят\",\"восемьдесят\",\"девяносто\",\n",
    "                    \"сто\",\"двести\",\"триста\",\"четыреста\",\"пятьсот\",\"шестьсот\",\"семьсот\",\"восемьсот\",\"девятьсот\"]\n",
    "\n",
    "        fraud[\"contains_word_number\"] = fraud[\"description_title\"].apply(lambda x: \\\n",
    "                                    any(word_number in x for word_number in words_numbers))\n",
    "        \n",
    "        fraud[\"contains_link\"] = fraud[\"description_title\"].str.contains(\"https://\") |\\\n",
    "                                fraud[\"description_title\"].str.contains(\".ru\")\n",
    "\n",
    "        fraud[\"contains_vk\"] = fraud[\"description_title\"].str.contains(\"vk\") | \\\n",
    "                                fraud[\"description_title\"].str.contains(\"вконтакте\") | \\\n",
    "                                fraud[\"description_title\"].str.contains(\"в контакте\")\n",
    "\n",
    "        fraud[\"contains_inst\"] = fraud[\"description_title\"].str.contains(\"instagram\") | \\\n",
    "                                fraud[\"description_title\"].str.contains(\"инстагр\")\n",
    "\n",
    "        fraud[\"contains_fb\"] = fraud[\"description_title\"].str.contains(\"facebook\") | \\\n",
    "                                fraud[\"description_title\"].str.contains(\"фейсбук\")\n",
    "\n",
    "\n",
    "        # точные кейсы, где содержится номер телефона\n",
    "        fraud[\"contains_phone_number\"] = fraud[\"description_title\"]\\\n",
    "                                    .str.contains(\"^((8|\\+7)[\\- ]?)?(\\(?\\d{3}\\)?[\\- ]?)?[\\d\\- ]{7,10}$\") \n",
    "\n",
    "        developed_fraud = fraud.query(\"phone_number_NOT_given_with_digits == False or contains_word_number == True or \\\n",
    "                contains_link == True or contains_vk == True or contains_inst == True or \\\n",
    "                contains_fb == True or contains_phone_number==True\").copy()\n",
    "\n",
    "        df.loc[df.index.isin(developed_fraud.index), \"fraud_developed\"] = 1\n",
    "        df.loc[~(df.index.isin(developed_fraud.index)), \"fraud_developed\"] = 0\n",
    "        \n",
    "        # вернем старое название\n",
    "        df = df.drop(\"is_bad\", axis=1).rename(columns={\"fraud_developed\": \"is_bad\"})\n",
    "    \n",
    "    # уберем явных аутлаеров в категории цены, чтобы они не испортили замену на средние значения\n",
    "    df = df[np.abs(df.price-df.price.mean()) <= (3*df.price.std())]\n",
    "    \n",
    "    # обработка пропущенных значени в price (есть пропущенные в обоих train и val)\n",
    "    df[\"price\"] = df.loc[:,\"price\"].fillna(df.groupby(\"subcategory\")[\"price\"]\\\n",
    "                               .transform(\"mean\"))\n",
    "    \n",
    "    # стандартизируем показатель цены\n",
    "    #df[\"price\"]=(df[\"price\"]-df[\"price\"].mean())/df[\"price\"].std()\n",
    "    \n",
    "    # добавим вспомогательные, простые параметры текста title, description для модели\n",
    "    df[\"description_len\"] = df[\"description\"].apply(len)\n",
    "    df[\"title_len\"] = df[\"title\"].apply(len)\n",
    "    df[\"number_of_words_description\"] = df[\"description\"].apply(lambda x: len(x.split(\" \")))\n",
    "    df[\"number_of_words_title\"] = df[\"title\"].apply(lambda x: len(x.split(\" \")))\n",
    "    df[\"number_of_sentences_description\"] = df[\"description\"].apply(lambda x: x.count(\".\")+\\\n",
    "                                                                    x.count(\"!\")+x.count(\"?\"))\n",
    "    \n",
    "    #подготовка данных к модели\n",
    "    # отдельный eda показал, что category малозначимый параметр для определения класса, \n",
    "    # поэтому его мы уберем сразу на этапе подготовки данных\n",
    "    df = df[[\"subcategory\", \"price\", \"region\", \\\n",
    "            \"city\", \"is_bad\", \"description_len\", \"title_len\",\n",
    "            \"number_of_words_description\", \"number_of_words_title\", \"number_of_sentences_description\"]]\n",
    "    \n",
    "    \n",
    "    #label encoding для 'subcategory', 'region', 'city' (эти показатели остояли свою важность)\n",
    "    object_cols = ['subcategory', 'region', 'city']\n",
    "    \n",
    "    # важно, чтобы label encoding из train полностью соответствовал validate\n",
    "    if val_data is not None and train_data is not None:\n",
    "        label_encoder_subcategory = LabelEncoder()\n",
    "        label_encoder_region = LabelEncoder()\n",
    "        label_encoder_city = LabelEncoder()\n",
    "        \n",
    "        label_encoder_subcategory.fit(train_data[\"subcategory\"])\n",
    "        label_encoder_region.fit(train_data[\"region\"])\n",
    "        label_encoder_city.fit(train_data[\"city\"])\n",
    "        \n",
    "        df[\"subcategory\"] = label_encoder_subcategory.transform(df[\"subcategory\"])\n",
    "        df[\"region\"] = label_encoder_region.transform(df[\"region\"])\n",
    "        df[\"city\"] = label_encoder_city.transform(df[\"city\"])\n",
    "    \n",
    "    if train_data is not None and val_data is None:\n",
    "        label_encoder = LabelEncoder()\n",
    "        for col in object_cols:\n",
    "            df[col] = label_encoder.fit_transform(df[col])\n",
    "        \n",
    "    return df"
   ]
  },
  {
   "cell_type": "code",
   "execution_count": 1,
   "metadata": {
    "ExecuteTime": {
     "end_time": "2020-07-18T19:20:19.902193Z",
     "start_time": "2020-07-18T19:20:19.868592Z"
    }
   },
   "outputs": [],
   "source": [
    "#TODO: 1. добавить показатель почты contains \"mail, почта\"\n",
    "#TODO: 2. сделать str.lower description, когда будешь искать слова тригеры\n",
    "#TODO: 3. объединить свои метрики для отчистки фрода в один показатель"
   ]
  },
  {
   "cell_type": "markdown",
   "metadata": {},
   "source": [
    "# чистовик"
   ]
  },
  {
   "cell_type": "code",
   "execution_count": 271,
   "metadata": {
    "ExecuteTime": {
     "end_time": "2020-07-18T18:35:59.117760Z",
     "start_time": "2020-07-18T18:34:06.635732Z"
    }
   },
   "outputs": [],
   "source": [
    "train_data = prepare_data(train_avito_data)"
   ]
  },
  {
   "cell_type": "code",
   "execution_count": 272,
   "metadata": {
    "ExecuteTime": {
     "end_time": "2020-07-18T18:35:59.842517Z",
     "start_time": "2020-07-18T18:35:59.157855Z"
    }
   },
   "outputs": [],
   "source": [
    "X_train = train_data.drop(\"is_bad\", axis=1).copy()\n",
    "y_train = train_data.is_bad.copy()"
   ]
  },
  {
   "cell_type": "code",
   "execution_count": 273,
   "metadata": {
    "ExecuteTime": {
     "end_time": "2020-07-18T18:36:02.127012Z",
     "start_time": "2020-07-18T18:35:59.870456Z"
    }
   },
   "outputs": [],
   "source": [
    "val_data = prepare_data(train_avito_data, val_avito_data)"
   ]
  },
  {
   "cell_type": "code",
   "execution_count": 274,
   "metadata": {
    "ExecuteTime": {
     "end_time": "2020-07-18T18:36:02.157386Z",
     "start_time": "2020-07-18T18:36:02.132504Z"
    }
   },
   "outputs": [],
   "source": [
    "X_val = val_data.drop(\"is_bad\", axis=1).copy()\n",
    "y_val = val_data.is_bad.copy()"
   ]
  },
  {
   "cell_type": "markdown",
   "metadata": {},
   "source": [
    "# выбор данных для обучения и выбор модели классификации"
   ]
  },
  {
   "cell_type": "markdown",
   "metadata": {},
   "source": [
    "\n",
    "- т.к. данные сильно несбалансированы, то стоит сделать undersampling\n",
    "- за базовую модель возьем catboost\n",
    "- найдем наилучшие параметры с помощью gridsearch"
   ]
  },
  {
   "cell_type": "code",
   "execution_count": null,
   "metadata": {
    "ExecuteTime": {
     "start_time": "2020-07-18T18:58:33.156Z"
    }
   },
   "outputs": [],
   "source": [
    "ros = RandomOverSampler(random_state=42)\n",
    "\n",
    "X_resampled, y_resampled = ros.fit_sample(X_train, y_train)"
   ]
  },
  {
   "cell_type": "markdown",
   "metadata": {},
   "source": [
    "## Feature selection"
   ]
  },
  {
   "cell_type": "markdown",
   "metadata": {},
   "source": [
    "важность в валид выборке:"
   ]
  },
  {
   "cell_type": "code",
   "execution_count": 279,
   "metadata": {
    "ExecuteTime": {
     "end_time": "2020-07-18T18:37:28.464922Z",
     "start_time": "2020-07-18T18:37:28.344619Z"
    }
   },
   "outputs": [
    {
     "data": {
      "text/html": [
       "<div>\n",
       "<style scoped>\n",
       "    .dataframe tbody tr th:only-of-type {\n",
       "        vertical-align: middle;\n",
       "    }\n",
       "\n",
       "    .dataframe tbody tr th {\n",
       "        vertical-align: top;\n",
       "    }\n",
       "\n",
       "    .dataframe thead th {\n",
       "        text-align: right;\n",
       "    }\n",
       "</style>\n",
       "<table border=\"1\" class=\"dataframe\">\n",
       "  <thead>\n",
       "    <tr style=\"text-align: right;\">\n",
       "      <th></th>\n",
       "      <th>Specs</th>\n",
       "      <th>Score</th>\n",
       "    </tr>\n",
       "  </thead>\n",
       "  <tbody>\n",
       "    <tr>\n",
       "      <th>1</th>\n",
       "      <td>price</td>\n",
       "      <td>2.232550e+08</td>\n",
       "    </tr>\n",
       "    <tr>\n",
       "      <th>4</th>\n",
       "      <td>description_len</td>\n",
       "      <td>7.961180e+05</td>\n",
       "    </tr>\n",
       "    <tr>\n",
       "      <th>6</th>\n",
       "      <td>number_of_words_description</td>\n",
       "      <td>9.149893e+04</td>\n",
       "    </tr>\n",
       "    <tr>\n",
       "      <th>3</th>\n",
       "      <td>city</td>\n",
       "      <td>2.657646e+04</td>\n",
       "    </tr>\n",
       "    <tr>\n",
       "      <th>8</th>\n",
       "      <td>number_of_sentences_description</td>\n",
       "      <td>1.095477e+04</td>\n",
       "    </tr>\n",
       "    <tr>\n",
       "      <th>5</th>\n",
       "      <td>title_len</td>\n",
       "      <td>4.032815e+03</td>\n",
       "    </tr>\n",
       "    <tr>\n",
       "      <th>0</th>\n",
       "      <td>subcategory</td>\n",
       "      <td>3.466630e+03</td>\n",
       "    </tr>\n",
       "    <tr>\n",
       "      <th>2</th>\n",
       "      <td>region</td>\n",
       "      <td>2.304468e+03</td>\n",
       "    </tr>\n",
       "    <tr>\n",
       "      <th>7</th>\n",
       "      <td>number_of_words_title</td>\n",
       "      <td>2.753954e+02</td>\n",
       "    </tr>\n",
       "  </tbody>\n",
       "</table>\n",
       "</div>"
      ],
      "text/plain": [
       "                             Specs         Score\n",
       "1                            price  2.232550e+08\n",
       "4                  description_len  7.961180e+05\n",
       "6      number_of_words_description  9.149893e+04\n",
       "3                             city  2.657646e+04\n",
       "8  number_of_sentences_description  1.095477e+04\n",
       "5                        title_len  4.032815e+03\n",
       "0                      subcategory  3.466630e+03\n",
       "2                           region  2.304468e+03\n",
       "7            number_of_words_title  2.753954e+02"
      ]
     },
     "execution_count": 279,
     "metadata": {},
     "output_type": "execute_result"
    }
   ],
   "source": [
    "import pandas as pd\n",
    "import numpy as np\n",
    "from sklearn.feature_selection import SelectKBest\n",
    "from sklearn.feature_selection import chi2\n",
    "\n",
    "#apply SelectKBest class to extract top 10 best features\n",
    "bestfeatures = SelectKBest(score_func=chi2, k=9)\n",
    "\n",
    "fit = bestfeatures.fit(X_val, y_val)\n",
    "\n",
    "dfscores = pd.DataFrame(fit.scores_)\n",
    "dfcolumns = pd.DataFrame(X_val.columns)\n",
    "\n",
    "#concat two dataframes for better visualization \n",
    "featureScores = pd.concat([dfcolumns,dfscores],axis=1)\n",
    "\n",
    "featureScores.columns = ['Specs','Score']  #naming the dataframe columns\n",
    "\n",
    "featureScores.sort_values(\"Score\", ascending=False)  #print 10 best features"
   ]
  },
  {
   "cell_type": "markdown",
   "metadata": {},
   "source": [
    "важность в трэйн выборке"
   ]
  },
  {
   "cell_type": "code",
   "execution_count": 280,
   "metadata": {
    "ExecuteTime": {
     "end_time": "2020-07-18T18:37:32.019116Z",
     "start_time": "2020-07-18T18:37:31.513849Z"
    }
   },
   "outputs": [
    {
     "data": {
      "text/html": [
       "<div>\n",
       "<style scoped>\n",
       "    .dataframe tbody tr th:only-of-type {\n",
       "        vertical-align: middle;\n",
       "    }\n",
       "\n",
       "    .dataframe tbody tr th {\n",
       "        vertical-align: top;\n",
       "    }\n",
       "\n",
       "    .dataframe thead th {\n",
       "        text-align: right;\n",
       "    }\n",
       "</style>\n",
       "<table border=\"1\" class=\"dataframe\">\n",
       "  <thead>\n",
       "    <tr style=\"text-align: right;\">\n",
       "      <th></th>\n",
       "      <th>Specs</th>\n",
       "      <th>Score</th>\n",
       "    </tr>\n",
       "  </thead>\n",
       "  <tbody>\n",
       "    <tr>\n",
       "      <th>1</th>\n",
       "      <td>price</td>\n",
       "      <td>2.906415e+10</td>\n",
       "    </tr>\n",
       "    <tr>\n",
       "      <th>4</th>\n",
       "      <td>description_len</td>\n",
       "      <td>6.601337e+06</td>\n",
       "    </tr>\n",
       "    <tr>\n",
       "      <th>6</th>\n",
       "      <td>number_of_words_description</td>\n",
       "      <td>8.015295e+05</td>\n",
       "    </tr>\n",
       "    <tr>\n",
       "      <th>3</th>\n",
       "      <td>city</td>\n",
       "      <td>5.225109e+05</td>\n",
       "    </tr>\n",
       "    <tr>\n",
       "      <th>8</th>\n",
       "      <td>number_of_sentences_description</td>\n",
       "      <td>7.316470e+04</td>\n",
       "    </tr>\n",
       "    <tr>\n",
       "      <th>5</th>\n",
       "      <td>title_len</td>\n",
       "      <td>5.726426e+04</td>\n",
       "    </tr>\n",
       "    <tr>\n",
       "      <th>0</th>\n",
       "      <td>subcategory</td>\n",
       "      <td>4.726078e+04</td>\n",
       "    </tr>\n",
       "    <tr>\n",
       "      <th>2</th>\n",
       "      <td>region</td>\n",
       "      <td>2.379094e+04</td>\n",
       "    </tr>\n",
       "    <tr>\n",
       "      <th>7</th>\n",
       "      <td>number_of_words_title</td>\n",
       "      <td>3.049544e+03</td>\n",
       "    </tr>\n",
       "  </tbody>\n",
       "</table>\n",
       "</div>"
      ],
      "text/plain": [
       "                             Specs         Score\n",
       "1                            price  2.906415e+10\n",
       "4                  description_len  6.601337e+06\n",
       "6      number_of_words_description  8.015295e+05\n",
       "3                             city  5.225109e+05\n",
       "8  number_of_sentences_description  7.316470e+04\n",
       "5                        title_len  5.726426e+04\n",
       "0                      subcategory  4.726078e+04\n",
       "2                           region  2.379094e+04\n",
       "7            number_of_words_title  3.049544e+03"
      ]
     },
     "execution_count": 280,
     "metadata": {},
     "output_type": "execute_result"
    }
   ],
   "source": [
    "import pandas as pd\n",
    "import numpy as np\n",
    "from sklearn.feature_selection import SelectKBest\n",
    "from sklearn.feature_selection import chi2\n",
    "\n",
    "#apply SelectKBest class to extract top 10 best features\n",
    "bestfeatures = SelectKBest(score_func=chi2, k=9)\n",
    "\n",
    "fit = bestfeatures.fit(X_train, y_train)\n",
    "\n",
    "dfscores = pd.DataFrame(fit.scores_)\n",
    "dfcolumns = pd.DataFrame(X_train.columns)\n",
    "\n",
    "#concat two dataframes for better visualization \n",
    "featureScores = pd.concat([dfcolumns,dfscores],axis=1)\n",
    "\n",
    "featureScores.columns = ['Specs','Score']  #naming the dataframe columns\n",
    "featureScores.sort_values(\"Score\", ascending=False)"
   ]
  },
  {
   "cell_type": "markdown",
   "metadata": {},
   "source": [
    "- важность параметров в валид"
   ]
  },
  {
   "cell_type": "code",
   "execution_count": 276,
   "metadata": {
    "ExecuteTime": {
     "end_time": "2020-07-18T18:36:19.792656Z",
     "start_time": "2020-07-18T18:36:16.133238Z"
    }
   },
   "outputs": [
    {
     "name": "stdout",
     "output_type": "stream",
     "text": [
      "[0.15629667 0.09111886 0.11757632 0.09991651 0.15748314 0.11340715\n",
      " 0.11666542 0.06749682 0.08003912]\n"
     ]
    },
    {
     "data": {
      "image/png": "[encoded data removed]",
      "text/plain": [
       "<Figure size 432x288 with 1 Axes>"
      ]
     },
     "metadata": {
      "needs_background": "light"
     },
     "output_type": "display_data"
    }
   ],
   "source": [
    "import pandas as pd\n",
    "import numpy as np\n",
    "\n",
    "from sklearn.ensemble import ExtraTreesClassifier\n",
    "import matplotlib.pyplot as plt\n",
    "\n",
    "model = ExtraTreesClassifier()\n",
    "model.fit(X_val, y_val)\n",
    "\n",
    "print(model.feature_importances_) #use inbuilt class feature_importances of tree based classifiers\n",
    "#plot graph of feature importances for better visualization\n",
    "\n",
    "feat_importances = pd.Series(model.feature_importances_, index=X_val.columns)\n",
    "feat_importances.nlargest(10).plot(kind='barh')\n",
    "plt.show()"
   ]
  },
  {
   "cell_type": "code",
   "execution_count": 76,
   "metadata": {
    "ExecuteTime": {
     "end_time": "2020-07-18T15:22:00.536210Z",
     "start_time": "2020-07-18T15:22:00.515187Z"
    }
   },
   "outputs": [],
   "source": [
    "columns_1 = [\"subcategory\", \"number_of_words_title\", \"price\", \"number_of_sentences_description\",\n",
    "            \"city\", \"region\", \"title_len\", \"number_of_words_description\", \"description_len\"]"
   ]
  },
  {
   "cell_type": "markdown",
   "metadata": {},
   "source": [
    "- Как можно заметить, наши вспомогательные метрики здорово помогают определять класс фрода. На последних местах one hot encoding от `category`. Заберем самые важные параметры"
   ]
  },
  {
   "cell_type": "code",
   "execution_count": 283,
   "metadata": {
    "ExecuteTime": {
     "end_time": "2020-07-18T18:45:00.338301Z",
     "start_time": "2020-07-18T18:44:49.571707Z"
    }
   },
   "outputs": [
    {
     "name": "stdout",
     "output_type": "stream",
     "text": [
      "0:\tlearn: 0.6716551\ttotal: 163ms\tremaining: 16.1s\n",
      "1:\tlearn: 0.6545570\ttotal: 264ms\tremaining: 12.9s\n",
      "2:\tlearn: 0.6422939\ttotal: 339ms\tremaining: 10.9s\n",
      "3:\tlearn: 0.6328142\ttotal: 452ms\tremaining: 10.9s\n",
      "4:\tlearn: 0.6262822\ttotal: 529ms\tremaining: 10.1s\n",
      "5:\tlearn: 0.6201751\ttotal: 627ms\tremaining: 9.82s\n",
      "6:\tlearn: 0.6136244\ttotal: 726ms\tremaining: 9.64s\n",
      "7:\tlearn: 0.6092818\ttotal: 796ms\tremaining: 9.15s\n",
      "8:\tlearn: 0.6054297\ttotal: 882ms\tremaining: 8.92s\n",
      "9:\tlearn: 0.6023500\ttotal: 961ms\tremaining: 8.65s\n",
      "10:\tlearn: 0.6000347\ttotal: 1.03s\tremaining: 8.34s\n",
      "11:\tlearn: 0.5969982\ttotal: 1.12s\tremaining: 8.19s\n",
      "12:\tlearn: 0.5947613\ttotal: 1.22s\tremaining: 8.18s\n",
      "13:\tlearn: 0.5931837\ttotal: 1.31s\tremaining: 8.03s\n",
      "14:\tlearn: 0.5902367\ttotal: 1.39s\tremaining: 7.85s\n",
      "15:\tlearn: 0.5886088\ttotal: 1.51s\tremaining: 7.96s\n",
      "16:\tlearn: 0.5874409\ttotal: 1.61s\tremaining: 7.87s\n",
      "17:\tlearn: 0.5860335\ttotal: 1.76s\tremaining: 8.02s\n",
      "18:\tlearn: 0.5842510\ttotal: 1.86s\tremaining: 7.92s\n",
      "19:\tlearn: 0.5829092\ttotal: 1.92s\tremaining: 7.7s\n",
      "20:\tlearn: 0.5818872\ttotal: 2.02s\tremaining: 7.61s\n",
      "21:\tlearn: 0.5808175\ttotal: 2.13s\tremaining: 7.54s\n",
      "22:\tlearn: 0.5790870\ttotal: 2.19s\tremaining: 7.34s\n",
      "23:\tlearn: 0.5783911\ttotal: 2.26s\tremaining: 7.17s\n",
      "24:\tlearn: 0.5773324\ttotal: 2.35s\tremaining: 7.05s\n",
      "25:\tlearn: 0.5760146\ttotal: 2.49s\tremaining: 7.09s\n",
      "26:\tlearn: 0.5750639\ttotal: 2.61s\tremaining: 7.07s\n",
      "27:\tlearn: 0.5741512\ttotal: 2.7s\tremaining: 6.95s\n",
      "28:\tlearn: 0.5730219\ttotal: 2.79s\tremaining: 6.84s\n",
      "29:\tlearn: 0.5718275\ttotal: 2.94s\tremaining: 6.86s\n",
      "30:\tlearn: 0.5710503\ttotal: 3.03s\tremaining: 6.75s\n",
      "31:\tlearn: 0.5705314\ttotal: 3.13s\tremaining: 6.64s\n",
      "32:\tlearn: 0.5692681\ttotal: 3.23s\tremaining: 6.56s\n",
      "33:\tlearn: 0.5687727\ttotal: 3.33s\tremaining: 6.47s\n",
      "34:\tlearn: 0.5682836\ttotal: 3.43s\tremaining: 6.37s\n",
      "35:\tlearn: 0.5671620\ttotal: 3.52s\tremaining: 6.25s\n",
      "36:\tlearn: 0.5661404\ttotal: 3.58s\tremaining: 6.1s\n",
      "37:\tlearn: 0.5657563\ttotal: 3.65s\tremaining: 5.95s\n",
      "38:\tlearn: 0.5648953\ttotal: 3.72s\tremaining: 5.82s\n",
      "39:\tlearn: 0.5635702\ttotal: 3.8s\tremaining: 5.7s\n",
      "40:\tlearn: 0.5630669\ttotal: 3.89s\tremaining: 5.59s\n",
      "41:\tlearn: 0.5621505\ttotal: 3.96s\tremaining: 5.47s\n",
      "42:\tlearn: 0.5615195\ttotal: 4.03s\tremaining: 5.35s\n",
      "43:\tlearn: 0.5611525\ttotal: 4.12s\tremaining: 5.25s\n",
      "44:\tlearn: 0.5603572\ttotal: 4.21s\tremaining: 5.14s\n",
      "45:\tlearn: 0.5597628\ttotal: 4.29s\tremaining: 5.03s\n",
      "46:\tlearn: 0.5591785\ttotal: 4.4s\tremaining: 4.96s\n",
      "47:\tlearn: 0.5587433\ttotal: 4.48s\tremaining: 4.85s\n",
      "48:\tlearn: 0.5583106\ttotal: 4.54s\tremaining: 4.73s\n",
      "49:\tlearn: 0.5578982\ttotal: 4.64s\tremaining: 4.64s\n",
      "50:\tlearn: 0.5574646\ttotal: 4.71s\tremaining: 4.52s\n",
      "51:\tlearn: 0.5569725\ttotal: 4.8s\tremaining: 4.43s\n",
      "52:\tlearn: 0.5565907\ttotal: 4.88s\tremaining: 4.33s\n",
      "53:\tlearn: 0.5561882\ttotal: 4.94s\tremaining: 4.21s\n",
      "54:\tlearn: 0.5557048\ttotal: 5.02s\tremaining: 4.11s\n",
      "55:\tlearn: 0.5552125\ttotal: 5.11s\tremaining: 4.01s\n",
      "56:\tlearn: 0.5547850\ttotal: 5.18s\tremaining: 3.91s\n",
      "57:\tlearn: 0.5544394\ttotal: 5.25s\tremaining: 3.81s\n",
      "58:\tlearn: 0.5540698\ttotal: 5.36s\tremaining: 3.72s\n",
      "59:\tlearn: 0.5534392\ttotal: 5.42s\tremaining: 3.61s\n",
      "60:\tlearn: 0.5526847\ttotal: 5.49s\tremaining: 3.51s\n",
      "61:\tlearn: 0.5522061\ttotal: 5.56s\tremaining: 3.41s\n",
      "62:\tlearn: 0.5519139\ttotal: 5.63s\tremaining: 3.31s\n",
      "63:\tlearn: 0.5516266\ttotal: 5.71s\tremaining: 3.21s\n",
      "64:\tlearn: 0.5511461\ttotal: 5.8s\tremaining: 3.12s\n",
      "65:\tlearn: 0.5505054\ttotal: 5.88s\tremaining: 3.03s\n",
      "66:\tlearn: 0.5502274\ttotal: 5.96s\tremaining: 2.94s\n",
      "67:\tlearn: 0.5496920\ttotal: 6.04s\tremaining: 2.84s\n",
      "68:\tlearn: 0.5493721\ttotal: 6.17s\tremaining: 2.77s\n",
      "69:\tlearn: 0.5490985\ttotal: 6.24s\tremaining: 2.67s\n",
      "70:\tlearn: 0.5488673\ttotal: 6.32s\tremaining: 2.58s\n",
      "71:\tlearn: 0.5485598\ttotal: 6.43s\tremaining: 2.5s\n",
      "72:\tlearn: 0.5481423\ttotal: 6.5s\tremaining: 2.4s\n",
      "73:\tlearn: 0.5477070\ttotal: 6.59s\tremaining: 2.31s\n",
      "74:\tlearn: 0.5473532\ttotal: 6.65s\tremaining: 2.22s\n",
      "75:\tlearn: 0.5469827\ttotal: 6.78s\tremaining: 2.14s\n",
      "76:\tlearn: 0.5467752\ttotal: 6.91s\tremaining: 2.06s\n",
      "77:\tlearn: 0.5465056\ttotal: 7.03s\tremaining: 1.98s\n",
      "78:\tlearn: 0.5461055\ttotal: 7.16s\tremaining: 1.9s\n",
      "79:\tlearn: 0.5454782\ttotal: 7.3s\tremaining: 1.82s\n",
      "80:\tlearn: 0.5452668\ttotal: 7.4s\tremaining: 1.74s\n",
      "81:\tlearn: 0.5446909\ttotal: 7.5s\tremaining: 1.65s\n",
      "82:\tlearn: 0.5444861\ttotal: 7.57s\tremaining: 1.55s\n",
      "83:\tlearn: 0.5443119\ttotal: 7.65s\tremaining: 1.46s\n",
      "84:\tlearn: 0.5437443\ttotal: 7.74s\tremaining: 1.37s\n",
      "85:\tlearn: 0.5432479\ttotal: 7.87s\tremaining: 1.28s\n",
      "86:\tlearn: 0.5430354\ttotal: 7.97s\tremaining: 1.19s\n",
      "87:\tlearn: 0.5427446\ttotal: 8.04s\tremaining: 1.1s\n",
      "88:\tlearn: 0.5425708\ttotal: 8.12s\tremaining: 1s\n",
      "89:\tlearn: 0.5421654\ttotal: 8.19s\tremaining: 910ms\n",
      "90:\tlearn: 0.5419654\ttotal: 8.27s\tremaining: 818ms\n",
      "91:\tlearn: 0.5416678\ttotal: 8.36s\tremaining: 727ms\n",
      "92:\tlearn: 0.5413167\ttotal: 8.43s\tremaining: 634ms\n",
      "93:\tlearn: 0.5410470\ttotal: 8.49s\tremaining: 542ms\n",
      "94:\tlearn: 0.5408275\ttotal: 8.58s\tremaining: 452ms\n",
      "95:\tlearn: 0.5406047\ttotal: 8.66s\tremaining: 361ms\n",
      "96:\tlearn: 0.5403757\ttotal: 8.75s\tremaining: 271ms\n",
      "97:\tlearn: 0.5400637\ttotal: 8.85s\tremaining: 181ms\n",
      "98:\tlearn: 0.5398170\ttotal: 8.95s\tremaining: 90.4ms\n",
      "99:\tlearn: 0.5394985\ttotal: 9.04s\tremaining: 0us\n"
     ]
    }
   ],
   "source": [
    "model = CatBoostClassifier(random_state=1, \n",
    "                           iterations=100,\n",
    "                           learning_rate=0.2,\n",
    "                           depth=6)\n",
    "\n",
    "model.fit(X_resampled, y_resampled)\n",
    "y_pred = model.predict(X_val)"
   ]
  },
  {
   "cell_type": "code",
   "execution_count": 284,
   "metadata": {
    "ExecuteTime": {
     "end_time": "2020-07-18T18:45:02.379185Z",
     "start_time": "2020-07-18T18:45:02.334785Z"
    }
   },
   "outputs": [
    {
     "data": {
      "text/plain": [
       "0.7170083350453438"
      ]
     },
     "execution_count": 284,
     "metadata": {},
     "output_type": "execute_result"
    }
   ],
   "source": [
    "roc_auc_score(y_pred, y_val)"
   ]
  },
  {
   "cell_type": "code",
   "execution_count": 281,
   "metadata": {
    "ExecuteTime": {
     "end_time": "2020-07-18T18:43:54.415172Z",
     "start_time": "2020-07-18T18:43:53.830701Z"
    }
   },
   "outputs": [
    {
     "data": {
      "text/plain": [
       "['avito_model_78%.pkl']"
      ]
     },
     "execution_count": 281,
     "metadata": {},
     "output_type": "execute_result"
    }
   ],
   "source": [
    "# from sklearn.externals import joblib\n",
    "\n",
    "# joblib.dump(model, \"avito_model_78%.pkl\")"
   ]
  },
  {
   "cell_type": "code",
   "execution_count": 286,
   "metadata": {
    "ExecuteTime": {
     "end_time": "2020-07-18T18:54:06.780528Z",
     "start_time": "2020-07-18T18:54:05.400539Z"
    }
   },
   "outputs": [],
   "source": [
    "# train_data.to_pickle(\"train_data.p\")"
   ]
  },
  {
   "cell_type": "code",
   "execution_count": null,
   "metadata": {
    "ExecuteTime": {
     "start_time": "2020-07-18T18:56:40.760Z"
    }
   },
   "outputs": [],
   "source": [
    "# train_avito_data.to_pickle(\"train_avito_data.p\", compression=\"gzip\")"
   ]
  },
  {
   "cell_type": "code",
   "execution_count": 11,
   "metadata": {
    "ExecuteTime": {
     "end_time": "2020-07-18T14:00:34.348830Z",
     "start_time": "2020-07-18T14:00:34.342774Z"
    }
   },
   "outputs": [],
   "source": [
    "# grid = {'depth':[1, 3, 5, 9],\n",
    "#           'iterations':[250, 500, 1000],\n",
    "#           'learning_rate':[0.01,0.1,0.3], \n",
    "#           'l2_leaf_reg':[1,5,10,100],\n",
    "#         }\n",
    "\n",
    "\n",
    "\n",
    "# model = CatBoostClassifier(random_state=rand, loss_function='Logloss')\n",
    "\n",
    "# grid_search_result = model.grid_search(grid, \n",
    "#                                            X = X_resampled, \n",
    "#                                            y = y_resampled, verbose=10)\n",
    "\n",
    "# Results from Random Search\n",
    "# print(\"\\n========================================================\")\n",
    "# print(f\" Results from Random Search of random state - {rand}\" )\n",
    "# print(\"========================================================\")    \n",
    "\n",
    "# print(\"\\n The best estimator across ALL searched params:\\n\",\n",
    "#               grid_search_result.best_estimator_)\n",
    "# print(\"\\n The best score across ALL searched params:\\n\",\n",
    "#               grid_search_result.best_score_)\n",
    "\n",
    "# print(\"\\n The best parameters across ALL searched params:\\n\",\n",
    "#               grid_search_result.best_params_)\n",
    "    \n",
    "# y_pred = grid_search_result.best_estimator_.predict(X_val)\n",
    "    \n",
    "#     print(f\"\\n The AUC SSCORE FOR VALIDAETION SET for random state {rand}:\\n\",\n",
    "#               roc_auc_score(y_pred, y_val))\n",
    "\n",
    "#     print(\"\\n ========================================================\")"
   ]
  }
 ],
 "metadata": {
  "kernelspec": {
   "display_name": "Python 3",
   "language": "python",
   "name": "python3"
  },
  "language_info": {
   "codemirror_mode": {
    "name": "ipython",
    "version": 3
   },
   "file_extension": ".py",
   "mimetype": "text/x-python",
   "name": "python",
   "nbconvert_exporter": "python",
   "pygments_lexer": "ipython3",
   "version": "3.7.3"
  },
  "notify_time": "5",
  "toc": {
   "base_numbering": 1,
   "nav_menu": {},
   "number_sections": true,
   "sideBar": true,
   "skip_h1_title": false,
   "title_cell": "Table of Contents",
   "title_sidebar": "Contents",
   "toc_cell": false,
   "toc_position": {},
   "toc_section_display": true,
   "toc_window_display": false
  }
 },
 "nbformat": 4,
 "nbformat_minor": 2
}
