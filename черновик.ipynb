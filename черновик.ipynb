{
 "cells": [
  {
   "cell_type": "code",
   "execution_count": 99,
   "metadata": {
    "ExecuteTime": {
     "end_time": "2020-07-18T14:24:58.515317Z",
     "start_time": "2020-07-18T14:24:58.429352Z"
    }
   },
   "outputs": [],
   "source": [
    "import pandas as pd\n",
    "from sklearn.preprocessing import LabelEncoder\n",
    "from catboost import CatBoostClassifier\n",
    "from sklearn.metrics import roc_auc_score"
   ]
  },
  {
   "cell_type": "code",
   "execution_count": 126,
   "metadata": {
    "ExecuteTime": {
     "end_time": "2020-07-18T14:33:04.811435Z",
     "start_time": "2020-07-18T14:33:04.332562Z"
    }
   },
   "outputs": [],
   "source": [
    "val_data = pd.read_csv(\"data/val.csv\")"
   ]
  },
  {
   "cell_type": "code",
   "execution_count": 4,
   "metadata": {
    "ExecuteTime": {
     "end_time": "2020-07-18T13:33:55.236474Z",
     "start_time": "2020-07-18T13:33:14.312607Z"
    }
   },
   "outputs": [],
   "source": [
    "train_avito_data = pd.read_csv(\"data/train.csv\")"
   ]
  },
  {
   "cell_type": "code",
   "execution_count": 7,
   "metadata": {
    "ExecuteTime": {
     "end_time": "2020-07-18T13:34:14.798191Z",
     "start_time": "2020-07-18T13:34:14.788322Z"
    }
   },
   "outputs": [],
   "source": [
    "def count_digits(string):\n",
    "    return sum(item.isdigit() for item in string)"
   ]
  },
  {
   "cell_type": "markdown",
   "metadata": {},
   "source": [
    "## train"
   ]
  },
  {
   "cell_type": "code",
   "execution_count": 5,
   "metadata": {
    "ExecuteTime": {
     "end_time": "2020-07-18T13:33:59.337321Z",
     "start_time": "2020-07-18T13:33:58.258264Z"
    }
   },
   "outputs": [],
   "source": [
    "fraud = train_avito_data[train_avito_data[\"is_bad\"]==1].copy()\n",
    "\n",
    "fraud[\"#_of_digits\"] = fraud[\"description\"].apply(count_digits)\n",
    "\n",
    "# цифрами точно не передан номер, с учетом домашнего телефона\n",
    "fraud[\"phone_number_NOT_given_with_digits\"] = fraud[\"#_of_digits\"] < 6\n",
    "\n",
    "\n",
    "fraud[\"contains_link\"] = fraud[\"description\"].str.contains(\"https://\") |\\\n",
    "                            fraud[\"description\"].str.contains(\".ru\")\n",
    "\n",
    "fraud[\"contains_vk\"] = fraud[\"description\"].str.contains(\"vk\") | \\\n",
    "                        fraud[\"description\"].str.contains(\"вконтакте\") | \\\n",
    "                        fraud[\"description\"].str.contains(\"в контакте\")\n",
    "\n",
    "fraud[\"contains_inst\"] = fraud[\"description\"].str.contains(\"instagram\") | \\\n",
    "                        fraud[\"description\"].str.contains(\"инстагр\")\n",
    "\n",
    "fraud[\"contains_fb\"] = fraud[\"description\"].str.contains(\"facebook\") | \\\n",
    "                        fraud[\"description\"].str.contains(\"фейсбук\")\n",
    "\n",
    "\n",
    "words_numbers = [\"ноль\",\"один\",\"два\", \"три\", \"четыре\", \"пять\", \"шесть\", \"семь\",\"девять\", \"десять\",\n",
    "                    \"одиннадцать\", \"двеннадцать\", \"триннадцать\", \"четырнадцать\", \"пятнадцать\", \"шесть\"\n",
    "                    \"шестнадцать\",\"семнадцать\",\"восемнадцать\",\"девятнадцать\",\"двадцать\",\"тридцать\",\n",
    "                    \"сорок\",\"пятьдесят\",\"шестьдесят\",\"семьдесят\",\"восемьдесят\",\"девяносто\",\n",
    "                    \"сто\",\"двести\",\"триста\",\"четыреста\",\"пятьсот\",\"шестьсот\",\"семьсот\",\"восемьсот\",\"девятьсот\"]\n",
    "\n",
    "fraud[\"contains_word_number\"] = fraud[\"description\"].apply(lambda x: \\\n",
    "                                    any(word_number in x for word_number in words_numbers))\n",
    "\n",
    "\n",
    "# точные кейсы, где содержится номер телефона\n",
    "fraud[\"contains_phone_number\"] = fraud[\"description\"]\\\n",
    "                                .str.contains(\"^((8|\\+7)[\\- ]?)?(\\(?\\d{3}\\)?[\\- ]?)?[\\d\\- ]{7,10}$\") \n",
    "\n",
    "developed_fraud = fraud.query(\"phone_number_NOT_given_with_digits == False or contains_word_number == True or \\\n",
    "            contains_link == True or contains_vk == True or contains_inst == True or \\\n",
    "            contains_fb == True or contains_phone_number==True\").copy()\n",
    "\n",
    "train_avito_data.loc[train_avito_data.index.isin(developed_fraud.index), \"fraud_developed\"] = 1\n",
    "train_avito_data.loc[~(train_avito_data.index.isin(developed_fraud.index)), \"fraud_developed\"] = 0\n",
    "\n",
    "avito_data = pd.merge(train_avito_data, fraud)\n",
    "\n",
    "avito_data_prepared = avito_data[[\"subcategory\", \"category\", \"price\", \"region\", \\\n",
    "                                  \"city\", \"fraud_developed\", \"#_of_digits\", \"phone_number_NOT_given_with_digits\", \n",
    "                                  \"contains_link\", \"contains_vk\", \"contains_inst\", \"contains_fb\", \n",
    "                                  \"contains_phone_number\", \"contains_word_number\"]].copy()\n",
    "\n",
    "category = pd.get_dummies(avito_data_prepared[\"category\"], prefix='category')\n",
    "\n",
    "avito_data_prepared = pd.concat([avito_data_prepared.drop(\"category\", axis=1), category], axis=1)\n",
    "\n",
    "avito_data_prepared = avito_data_prepared.rename(columns={'category_Бытовая электроника': \"category_consumer_electronics\",\n",
    "                                     'category_Для бизнеса': \"category_for_business\",\n",
    "                                     'category_Для дома и дачи': \"category_for_house\", \n",
    "                                     'category_Животные': \"category_animals\", \n",
    "                                     'category_Личные вещи': \"category_personal_belongings\",\n",
    "                                     'category_Недвижимость': \"category_real_estate\", \n",
    "                                     'category_Работа': \"category_job\", \n",
    "                                     'category_Транспорт': \"category_transport\",\n",
    "                                     'category_Услуги': \"category_services\", \n",
    "                                     'category_Хобби и отдых': \"category_hobby_rest\"})\n",
    "\n",
    "label_encoder = LabelEncoder()\n",
    "\n",
    "object_cols = ['subcategory', 'region', 'city']\n",
    "\n",
    "for col in object_cols:\n",
    "    avito_data_prepared[col] = label_encoder.fit_transform(avito_data_prepared[col])\n",
    "    \n",
    "bool_cols = [\"phone_number_NOT_given_with_digits\", \n",
    "                                  \"contains_link\", \"contains_vk\", \"contains_inst\", \"contains_fb\", \n",
    "                                  \"contains_phone_number\", \"contains_word_number\"]\n",
    "\n",
    "avito_data_prepared[bool_cols] = avito_data_prepared[bool_cols].astype(int)\n",
    "\n",
    "avito_data_prepared[\"price\"] = avito_data_prepared.loc[:,\"price\"].\\\n",
    "                               fillna(avito_data_prepared.groupby(\"subcategory\")[\"price\"]\\\n",
    "                               .transform(\"mean\")).copy()\n",
    "\n",
    "avito_data_prepared = avito_data_prepared.rename(columns={\"fraud_developed\":\"is_bad\"})"
   ]
  },
  {
   "cell_type": "markdown",
   "metadata": {},
   "source": [
    "## val"
   ]
  },
  {
   "cell_type": "code",
   "execution_count": 127,
   "metadata": {
    "ExecuteTime": {
     "end_time": "2020-07-18T14:33:10.122344Z",
     "start_time": "2020-07-18T14:33:09.468705Z"
    }
   },
   "outputs": [
    {
     "name": "stderr",
     "output_type": "stream",
     "text": [
      "/Users/admin/anaconda3/lib/python3.7/site-packages/pandas/core/strings.py:1952: UserWarning: This pattern has match groups. To actually get the groups, use str.extract.\n",
      "  return func(self, *args, **kwargs)\n"
     ]
    }
   ],
   "source": [
    "val_fraud = val_data[val_data[\"is_bad\"]==1].copy()\n",
    "\n",
    "val_fraud[\"#_of_digits\"] = val_fraud[\"description\"].apply(count_digits)\n",
    "\n",
    "# цифрами точно не передан номер, с учетом домашнего телефона\n",
    "val_fraud[\"phone_number_NOT_given_with_digits\"] = val_fraud[\"#_of_digits\"] < 6\n",
    "\n",
    "\n",
    "val_fraud[\"contains_link\"] = val_fraud[\"description\"].str.contains(\"https://\") |\\\n",
    "                            val_fraud[\"description\"].str.contains(\".ru\")\n",
    "\n",
    "val_fraud[\"contains_vk\"] = val_fraud[\"description\"].str.contains(\"vk\") | \\\n",
    "                        val_fraud[\"description\"].str.contains(\"вконтакте\") | \\\n",
    "                        val_fraud[\"description\"].str.contains(\"в контакте\")\n",
    "\n",
    "val_fraud[\"contains_inst\"] = val_fraud[\"description\"].str.contains(\"instagram\") | \\\n",
    "                        val_fraud[\"description\"].str.contains(\"инстагр\")\n",
    "\n",
    "val_fraud[\"contains_fb\"] = val_fraud[\"description\"].str.contains(\"facebook\") | \\\n",
    "                        val_fraud[\"description\"].str.contains(\"фейсбук\")\n",
    "\n",
    "\n",
    "words_numbers = [\"ноль\",\"один\",\"два\", \"три\", \"четыре\", \"пять\", \"шесть\", \"семь\",\"девять\", \"десять\",\n",
    "                    \"одиннадцать\", \"двеннадцать\", \"триннадцать\", \"четырнадцать\", \"пятнадцать\", \"шесть\"\n",
    "                    \"шестнадцать\",\"семнадцать\",\"восемнадцать\",\"девятнадцать\",\"двадцать\",\"тридцать\",\n",
    "                    \"сорок\",\"пятьдесят\",\"шестьдесят\",\"семьдесят\",\"восемьдесят\",\"девяносто\",\n",
    "                    \"сто\",\"двести\",\"триста\",\"четыреста\",\"пятьсот\",\"шестьсот\",\"семьсот\",\"восемьсот\",\"девятьсот\"]\n",
    "\n",
    "val_fraud[\"contains_word_number\"] = val_fraud[\"description\"].apply(lambda x: \\\n",
    "                                    any(word_number in x for word_number in words_numbers))\n",
    "\n",
    "\n",
    "# точные кейсы, где содержится номер телефона\n",
    "val_fraud[\"contains_phone_number\"] = val_fraud[\"description\"]\\\n",
    "                                .str.contains(\"^((8|\\+7)[\\- ]?)?(\\(?\\d{3}\\)?[\\- ]?)?[\\d\\- ]{7,10}$\") \n",
    "\n",
    "# developed_val_fraud = val_fraud.query(\"phone_number_NOT_given_with_digits == False or contains_word_number == True or \\\n",
    "#             contains_link == True or contains_vk == True or contains_inst == True or \\\n",
    "#             contains_fb == True or contains_phone_number==True\").copy()\n",
    "\n",
    "# val_data.loc[val_data.index.isin(developed_val_fraud.index), \"val_fraud_developed\"] = 1\n",
    "# val_data.loc[~(val_data.index.isin(developed_val_fraud.index)), \"val_fraud_developed\"] = 0\n",
    "\n",
    "# avito_data = pd.merge(val_data, val_fraud)\n",
    "\n",
    "val_avito_data_prepared = val_fraud[[\"subcategory\", \"category\", \"price\", \"region\", \n",
    "                                  \"city\", \"is_bad\",\"#_of_digits\", \"phone_number_NOT_given_with_digits\", \n",
    "                                  \"contains_link\", \"contains_vk\", \"contains_inst\", \"contains_fb\", \n",
    "                                  \"contains_phone_number\", \"contains_word_number\"]].copy()\n",
    "\n",
    "category = pd.get_dummies(val_avito_data_prepared[\"category\"], prefix='category')\n",
    "\n",
    "val_avito_data_prepared = val_avito_data_prepared.rename(columns={'category_Бытовая электроника': \"category_consumer_electronics\",\n",
    "                                     'category_Для бизнеса': \"category_for_business\",\n",
    "                                     'category_Для дома и дачи': \"category_for_house\", \n",
    "                                     'category_Животные': \"category_animals\", \n",
    "                                     'category_Личные вещи': \"category_personal_belongings\",\n",
    "                                     'category_Недвижимость': \"category_real_estate\", \n",
    "                                     'category_Работа': \"category_job\", \n",
    "                                     'category_Транспорт': \"category_transport\",\n",
    "                                     'category_Услуги': \"category_services\", \n",
    "                                     'category_Хобби и отдых': \"category_hobby_rest\"})\n",
    "\n",
    "label_encoder_subcategory = LabelEncoder()\n",
    "label_encoder_region = LabelEncoder()\n",
    "label_encoder_city = LabelEncoder()\n",
    "        \n",
    "label_encoder_subcategory.fit(train_avito_data[\"subcategory\"])\n",
    "label_encoder_region.fit(train_avito_data[\"region\"])\n",
    "label_encoder_city.fit(train_avito_data[\"city\"])\n",
    "        \n",
    "val_avito_data_prepared[\"subcategory\"] = label_encoder_subcategory.transform(val_avito_data_prepared[\"subcategory\"])\n",
    "val_avito_data_prepared[\"region\"] = label_encoder_region.transform(val_avito_data_prepared[\"region\"])\n",
    "val_avito_data_prepared[\"city\"] = label_encoder_city.transform(val_avito_data_prepared[\"city\"])\n",
    "    \n",
    "bool_cols = [\"phone_number_NOT_given_with_digits\", \n",
    "                                  \"contains_link\", \"contains_vk\", \"contains_inst\", \"contains_fb\", \n",
    "                                  \"contains_phone_number\", \"contains_word_number\"]\n",
    "\n",
    "val_avito_data_prepared[bool_cols] = val_avito_data_prepared[bool_cols].astype(int)\n",
    "\n",
    "val_avito_data_prepared[\"price\"] = val_avito_data_prepared.loc[:,\"price\"].\\\n",
    "                               fillna(val_avito_data_prepared.groupby(\"subcategory\")[\"price\"]\\\n",
    "                               .transform(\"mean\")).copy()\n"
   ]
  },
  {
   "cell_type": "markdown",
   "metadata": {},
   "source": [
    "## model"
   ]
  },
  {
   "cell_type": "code",
   "execution_count": 53,
   "metadata": {
    "ExecuteTime": {
     "end_time": "2020-07-18T13:54:40.132405Z",
     "start_time": "2020-07-18T13:54:39.994120Z"
    }
   },
   "outputs": [],
   "source": [
    "avito_data_prepared = avito_data_prepared.rename(columns={\"fraud_developed\":\"is_bad\"})"
   ]
  },
  {
   "cell_type": "code",
   "execution_count": 93,
   "metadata": {
    "ExecuteTime": {
     "end_time": "2020-07-18T14:24:05.973960Z",
     "start_time": "2020-07-18T14:24:05.720695Z"
    }
   },
   "outputs": [],
   "source": [
    "X_train = avito_data_prepared.drop(\"is_bad\", axis=1).copy()\n",
    "y_train = avito_data_prepared.is_bad.copy()"
   ]
  },
  {
   "cell_type": "code",
   "execution_count": 108,
   "metadata": {
    "ExecuteTime": {
     "end_time": "2020-07-18T14:27:10.507374Z",
     "start_time": "2020-07-18T14:27:10.498418Z"
    }
   },
   "outputs": [],
   "source": [
    "X_val = val_avito_data_prepared.drop(\"is_bad\", axis=1).copy()\n",
    "y_val = val_avito_data_prepared.is_bad.copy()"
   ]
  },
  {
   "cell_type": "code",
   "execution_count": 109,
   "metadata": {
    "ExecuteTime": {
     "end_time": "2020-07-18T14:27:12.764533Z",
     "start_time": "2020-07-18T14:27:12.758527Z"
    }
   },
   "outputs": [],
   "source": [
    "model = CatBoostClassifier(random_state=42, \n",
    "                           iterations=100,\n",
    "                           learning_rate=0.1,\n",
    "                           depth=6)"
   ]
  },
  {
   "cell_type": "code",
   "execution_count": 110,
   "metadata": {
    "ExecuteTime": {
     "end_time": "2020-07-18T14:27:20.943238Z",
     "start_time": "2020-07-18T14:27:13.047011Z"
    }
   },
   "outputs": [
    {
     "name": "stdout",
     "output_type": "stream",
     "text": [
      "0:\tlearn: 0.3298808\ttotal: 124ms\tremaining: 12.3s\n",
      "1:\tlearn: 0.1513747\ttotal: 211ms\tremaining: 10.3s\n",
      "2:\tlearn: 0.0681032\ttotal: 315ms\tremaining: 10.2s\n",
      "3:\tlearn: 0.0334122\ttotal: 428ms\tremaining: 10.3s\n",
      "4:\tlearn: 0.0176302\ttotal: 521ms\tremaining: 9.9s\n",
      "5:\tlearn: 0.0098084\ttotal: 605ms\tremaining: 9.47s\n",
      "6:\tlearn: 0.0059007\ttotal: 696ms\tremaining: 9.25s\n",
      "7:\tlearn: 0.0037977\ttotal: 778ms\tremaining: 8.94s\n",
      "8:\tlearn: 0.0025514\ttotal: 859ms\tremaining: 8.69s\n",
      "9:\tlearn: 0.0018189\ttotal: 941ms\tremaining: 8.47s\n",
      "10:\tlearn: 0.0013426\ttotal: 1.03s\tremaining: 8.34s\n",
      "11:\tlearn: 0.0009993\ttotal: 1.11s\tremaining: 8.14s\n",
      "12:\tlearn: 0.0007975\ttotal: 1.19s\tremaining: 7.95s\n",
      "13:\tlearn: 0.0006269\ttotal: 1.26s\tremaining: 7.77s\n",
      "14:\tlearn: 0.0005335\ttotal: 1.34s\tremaining: 7.62s\n",
      "15:\tlearn: 0.0004601\ttotal: 1.42s\tremaining: 7.48s\n",
      "16:\tlearn: 0.0004016\ttotal: 1.52s\tremaining: 7.4s\n",
      "17:\tlearn: 0.0003481\ttotal: 1.59s\tremaining: 7.23s\n",
      "18:\tlearn: 0.0003167\ttotal: 1.67s\tremaining: 7.11s\n",
      "19:\tlearn: 0.0002804\ttotal: 1.73s\tremaining: 6.93s\n",
      "20:\tlearn: 0.0002750\ttotal: 1.8s\tremaining: 6.79s\n",
      "21:\tlearn: 0.0002426\ttotal: 1.9s\tremaining: 6.74s\n",
      "22:\tlearn: 0.0002274\ttotal: 1.96s\tremaining: 6.58s\n",
      "23:\tlearn: 0.0002274\ttotal: 2.03s\tremaining: 6.42s\n",
      "24:\tlearn: 0.0002274\ttotal: 2.09s\tremaining: 6.28s\n",
      "25:\tlearn: 0.0002274\ttotal: 2.16s\tremaining: 6.16s\n",
      "26:\tlearn: 0.0002102\ttotal: 2.27s\tremaining: 6.13s\n",
      "27:\tlearn: 0.0002102\ttotal: 2.34s\tremaining: 6.02s\n",
      "28:\tlearn: 0.0002102\ttotal: 2.41s\tremaining: 5.9s\n",
      "29:\tlearn: 0.0002001\ttotal: 2.47s\tremaining: 5.76s\n",
      "30:\tlearn: 0.0002001\ttotal: 2.52s\tremaining: 5.62s\n",
      "31:\tlearn: 0.0001892\ttotal: 2.6s\tremaining: 5.52s\n",
      "32:\tlearn: 0.0001868\ttotal: 2.67s\tremaining: 5.42s\n",
      "33:\tlearn: 0.0001822\ttotal: 2.73s\tremaining: 5.29s\n",
      "34:\tlearn: 0.0001713\ttotal: 2.78s\tremaining: 5.17s\n",
      "35:\tlearn: 0.0001673\ttotal: 2.85s\tremaining: 5.06s\n",
      "36:\tlearn: 0.0001653\ttotal: 2.92s\tremaining: 4.97s\n",
      "37:\tlearn: 0.0001633\ttotal: 2.99s\tremaining: 4.87s\n",
      "38:\tlearn: 0.0001551\ttotal: 3.05s\tremaining: 4.77s\n",
      "39:\tlearn: 0.0001503\ttotal: 3.11s\tremaining: 4.67s\n",
      "40:\tlearn: 0.0001503\ttotal: 3.18s\tremaining: 4.58s\n",
      "41:\tlearn: 0.0001503\ttotal: 3.23s\tremaining: 4.46s\n",
      "42:\tlearn: 0.0001503\ttotal: 3.28s\tremaining: 4.35s\n",
      "43:\tlearn: 0.0001503\ttotal: 3.35s\tremaining: 4.26s\n",
      "44:\tlearn: 0.0001503\ttotal: 3.4s\tremaining: 4.16s\n",
      "45:\tlearn: 0.0001503\ttotal: 3.46s\tremaining: 4.06s\n",
      "46:\tlearn: 0.0001503\ttotal: 3.51s\tremaining: 3.96s\n",
      "47:\tlearn: 0.0001503\ttotal: 3.59s\tremaining: 3.89s\n",
      "48:\tlearn: 0.0001503\ttotal: 3.69s\tremaining: 3.85s\n",
      "49:\tlearn: 0.0001503\ttotal: 3.81s\tremaining: 3.81s\n",
      "50:\tlearn: 0.0001503\ttotal: 3.92s\tremaining: 3.76s\n",
      "51:\tlearn: 0.0001503\ttotal: 3.98s\tremaining: 3.67s\n",
      "52:\tlearn: 0.0001503\ttotal: 4.08s\tremaining: 3.62s\n",
      "53:\tlearn: 0.0001503\ttotal: 4.17s\tremaining: 3.55s\n",
      "54:\tlearn: 0.0001503\ttotal: 4.25s\tremaining: 3.48s\n",
      "55:\tlearn: 0.0001503\ttotal: 4.33s\tremaining: 3.4s\n",
      "56:\tlearn: 0.0001503\ttotal: 4.39s\tremaining: 3.31s\n",
      "57:\tlearn: 0.0001503\ttotal: 4.44s\tremaining: 3.21s\n",
      "58:\tlearn: 0.0001503\ttotal: 4.5s\tremaining: 3.13s\n",
      "59:\tlearn: 0.0001503\ttotal: 4.56s\tremaining: 3.04s\n",
      "60:\tlearn: 0.0001503\ttotal: 4.62s\tremaining: 2.95s\n",
      "61:\tlearn: 0.0001503\ttotal: 4.67s\tremaining: 2.86s\n",
      "62:\tlearn: 0.0001503\ttotal: 4.74s\tremaining: 2.78s\n",
      "63:\tlearn: 0.0001503\ttotal: 4.81s\tremaining: 2.71s\n",
      "64:\tlearn: 0.0001503\ttotal: 4.88s\tremaining: 2.63s\n",
      "65:\tlearn: 0.0001503\ttotal: 4.93s\tremaining: 2.54s\n",
      "66:\tlearn: 0.0001503\ttotal: 5s\tremaining: 2.46s\n",
      "67:\tlearn: 0.0001503\ttotal: 5.07s\tremaining: 2.38s\n",
      "68:\tlearn: 0.0001503\ttotal: 5.12s\tremaining: 2.3s\n",
      "69:\tlearn: 0.0001503\ttotal: 5.17s\tremaining: 2.22s\n",
      "70:\tlearn: 0.0001503\ttotal: 5.29s\tremaining: 2.16s\n",
      "71:\tlearn: 0.0001503\ttotal: 5.39s\tremaining: 2.1s\n",
      "72:\tlearn: 0.0001503\ttotal: 5.46s\tremaining: 2.02s\n",
      "73:\tlearn: 0.0001503\ttotal: 5.55s\tremaining: 1.95s\n",
      "74:\tlearn: 0.0001503\ttotal: 5.64s\tremaining: 1.88s\n",
      "75:\tlearn: 0.0001503\ttotal: 5.69s\tremaining: 1.8s\n",
      "76:\tlearn: 0.0001503\ttotal: 5.77s\tremaining: 1.72s\n",
      "77:\tlearn: 0.0001503\ttotal: 5.86s\tremaining: 1.65s\n",
      "78:\tlearn: 0.0001503\ttotal: 5.91s\tremaining: 1.57s\n",
      "79:\tlearn: 0.0001503\ttotal: 5.97s\tremaining: 1.49s\n",
      "80:\tlearn: 0.0001503\ttotal: 6.05s\tremaining: 1.42s\n",
      "81:\tlearn: 0.0001503\ttotal: 6.1s\tremaining: 1.34s\n",
      "82:\tlearn: 0.0001503\ttotal: 6.16s\tremaining: 1.26s\n",
      "83:\tlearn: 0.0001503\ttotal: 6.22s\tremaining: 1.19s\n",
      "84:\tlearn: 0.0001503\ttotal: 6.28s\tremaining: 1.11s\n",
      "85:\tlearn: 0.0001503\ttotal: 6.36s\tremaining: 1.03s\n",
      "86:\tlearn: 0.0001503\ttotal: 6.43s\tremaining: 961ms\n",
      "87:\tlearn: 0.0001503\ttotal: 6.51s\tremaining: 888ms\n",
      "88:\tlearn: 0.0001503\ttotal: 6.57s\tremaining: 813ms\n",
      "89:\tlearn: 0.0001503\ttotal: 6.63s\tremaining: 736ms\n",
      "90:\tlearn: 0.0001503\ttotal: 6.7s\tremaining: 663ms\n",
      "91:\tlearn: 0.0001503\ttotal: 6.76s\tremaining: 587ms\n",
      "92:\tlearn: 0.0001503\ttotal: 6.81s\tremaining: 513ms\n",
      "93:\tlearn: 0.0001503\ttotal: 6.86s\tremaining: 438ms\n",
      "94:\tlearn: 0.0001503\ttotal: 6.91s\tremaining: 364ms\n",
      "95:\tlearn: 0.0001503\ttotal: 6.97s\tremaining: 291ms\n",
      "96:\tlearn: 0.0001503\ttotal: 7.03s\tremaining: 217ms\n",
      "97:\tlearn: 0.0001503\ttotal: 7.09s\tremaining: 145ms\n",
      "98:\tlearn: 0.0001503\ttotal: 7.16s\tremaining: 72.3ms\n",
      "99:\tlearn: 0.0001503\ttotal: 7.21s\tremaining: 0us\n"
     ]
    },
    {
     "data": {
      "text/plain": [
       "<catboost.core.CatBoostClassifier at 0x126126fd0>"
      ]
     },
     "execution_count": 110,
     "metadata": {},
     "output_type": "execute_result"
    }
   ],
   "source": [
    "model.fit(X_train, y_train)"
   ]
  },
  {
   "cell_type": "code",
   "execution_count": 111,
   "metadata": {
    "ExecuteTime": {
     "end_time": "2020-07-18T14:27:21.063171Z",
     "start_time": "2020-07-18T14:27:20.946667Z"
    }
   },
   "outputs": [
    {
     "ename": "CatBoostError",
     "evalue": "Bad value for num_feature[non_default_doc_idx=0,feature_idx=1]=\"Транспорт\": Cannot convert 'b'\\xd0\\xa2\\xd1\\x80\\xd0\\xb0\\xd0\\xbd\\xd1\\x81\\xd0\\xbf\\xd0\\xbe\\xd1\\x80\\xd1\\x82'' to float",
     "output_type": "error",
     "traceback": [
      "\u001b[0;31m---------------------------------------------------------------------------\u001b[0m",
      "\u001b[0;31mTypeError\u001b[0m                                 Traceback (most recent call last)",
      "\u001b[0;32m_catboost.pyx\u001b[0m in \u001b[0;36m_catboost.get_float_feature\u001b[0;34m()\u001b[0m\n",
      "\u001b[0;32m_catboost.pyx\u001b[0m in \u001b[0;36m_catboost._FloatOrNan\u001b[0;34m()\u001b[0m\n",
      "\u001b[0;32m_catboost.pyx\u001b[0m in \u001b[0;36m_catboost._FloatOrNanFromString\u001b[0;34m()\u001b[0m\n",
      "\u001b[0;31mTypeError\u001b[0m: Cannot convert 'b'\\xd0\\xa2\\xd1\\x80\\xd0\\xb0\\xd0\\xbd\\xd1\\x81\\xd0\\xbf\\xd0\\xbe\\xd1\\x80\\xd1\\x82'' to float",
      "\nDuring handling of the above exception, another exception occurred:\n",
      "\u001b[0;31mCatBoostError\u001b[0m                             Traceback (most recent call last)",
      "\u001b[0;32m<ipython-input-111-29f0047f36ed>\u001b[0m in \u001b[0;36m<module>\u001b[0;34m\u001b[0m\n\u001b[0;32m----> 1\u001b[0;31m \u001b[0my_pred\u001b[0m \u001b[0;34m=\u001b[0m \u001b[0mmodel\u001b[0m\u001b[0;34m.\u001b[0m\u001b[0mpredict\u001b[0m\u001b[0;34m(\u001b[0m\u001b[0mX_val\u001b[0m\u001b[0;34m)\u001b[0m\u001b[0;34m\u001b[0m\u001b[0;34m\u001b[0m\u001b[0m\n\u001b[0m",
      "\u001b[0;32m~/anaconda3/lib/python3.7/site-packages/catboost/core.py\u001b[0m in \u001b[0;36mpredict\u001b[0;34m(self, data, prediction_type, ntree_start, ntree_end, thread_count, verbose)\u001b[0m\n\u001b[1;32m   4167\u001b[0m                   \u001b[0;32mwith\u001b[0m \u001b[0mlog\u001b[0m \u001b[0mprobability\u001b[0m \u001b[0;32mfor\u001b[0m \u001b[0mevery\u001b[0m \u001b[0;32mclass\u001b[0m \u001b[0;32mfor\u001b[0m \u001b[0meach\u001b[0m \u001b[0mobject\u001b[0m\u001b[0;34m.\u001b[0m\u001b[0;34m\u001b[0m\u001b[0;34m\u001b[0m\u001b[0m\n\u001b[1;32m   4168\u001b[0m         \"\"\"\n\u001b[0;32m-> 4169\u001b[0;31m         \u001b[0;32mreturn\u001b[0m \u001b[0mself\u001b[0m\u001b[0;34m.\u001b[0m\u001b[0m_predict\u001b[0m\u001b[0;34m(\u001b[0m\u001b[0mdata\u001b[0m\u001b[0;34m,\u001b[0m \u001b[0mprediction_type\u001b[0m\u001b[0;34m,\u001b[0m \u001b[0mntree_start\u001b[0m\u001b[0;34m,\u001b[0m \u001b[0mntree_end\u001b[0m\u001b[0;34m,\u001b[0m \u001b[0mthread_count\u001b[0m\u001b[0;34m,\u001b[0m \u001b[0mverbose\u001b[0m\u001b[0;34m,\u001b[0m \u001b[0;34m'predict'\u001b[0m\u001b[0;34m)\u001b[0m\u001b[0;34m\u001b[0m\u001b[0;34m\u001b[0m\u001b[0m\n\u001b[0m\u001b[1;32m   4170\u001b[0m \u001b[0;34m\u001b[0m\u001b[0m\n\u001b[1;32m   4171\u001b[0m     \u001b[0;32mdef\u001b[0m \u001b[0mpredict_proba\u001b[0m\u001b[0;34m(\u001b[0m\u001b[0mself\u001b[0m\u001b[0;34m,\u001b[0m \u001b[0mdata\u001b[0m\u001b[0;34m,\u001b[0m \u001b[0mntree_start\u001b[0m\u001b[0;34m=\u001b[0m\u001b[0;36m0\u001b[0m\u001b[0;34m,\u001b[0m \u001b[0mntree_end\u001b[0m\u001b[0;34m=\u001b[0m\u001b[0;36m0\u001b[0m\u001b[0;34m,\u001b[0m \u001b[0mthread_count\u001b[0m\u001b[0;34m=\u001b[0m\u001b[0;34m-\u001b[0m\u001b[0;36m1\u001b[0m\u001b[0;34m,\u001b[0m \u001b[0mverbose\u001b[0m\u001b[0;34m=\u001b[0m\u001b[0;32mNone\u001b[0m\u001b[0;34m)\u001b[0m\u001b[0;34m:\u001b[0m\u001b[0;34m\u001b[0m\u001b[0;34m\u001b[0m\u001b[0m\n",
      "\u001b[0;32m~/anaconda3/lib/python3.7/site-packages/catboost/core.py\u001b[0m in \u001b[0;36m_predict\u001b[0;34m(self, data, prediction_type, ntree_start, ntree_end, thread_count, verbose, parent_method_name)\u001b[0m\n\u001b[1;32m   1903\u001b[0m         \u001b[0;32mif\u001b[0m \u001b[0mverbose\u001b[0m \u001b[0;32mis\u001b[0m \u001b[0;32mNone\u001b[0m\u001b[0;34m:\u001b[0m\u001b[0;34m\u001b[0m\u001b[0;34m\u001b[0m\u001b[0m\n\u001b[1;32m   1904\u001b[0m             \u001b[0mverbose\u001b[0m \u001b[0;34m=\u001b[0m \u001b[0;32mFalse\u001b[0m\u001b[0;34m\u001b[0m\u001b[0;34m\u001b[0m\u001b[0m\n\u001b[0;32m-> 1905\u001b[0;31m         \u001b[0mdata\u001b[0m\u001b[0;34m,\u001b[0m \u001b[0mdata_is_single_object\u001b[0m \u001b[0;34m=\u001b[0m \u001b[0mself\u001b[0m\u001b[0;34m.\u001b[0m\u001b[0m_process_predict_input_data\u001b[0m\u001b[0;34m(\u001b[0m\u001b[0mdata\u001b[0m\u001b[0;34m,\u001b[0m \u001b[0mparent_method_name\u001b[0m\u001b[0;34m,\u001b[0m \u001b[0mthread_count\u001b[0m\u001b[0;34m)\u001b[0m\u001b[0;34m\u001b[0m\u001b[0;34m\u001b[0m\u001b[0m\n\u001b[0m\u001b[1;32m   1906\u001b[0m         \u001b[0mself\u001b[0m\u001b[0;34m.\u001b[0m\u001b[0m_validate_prediction_type\u001b[0m\u001b[0;34m(\u001b[0m\u001b[0mprediction_type\u001b[0m\u001b[0;34m)\u001b[0m\u001b[0;34m\u001b[0m\u001b[0;34m\u001b[0m\u001b[0m\n\u001b[1;32m   1907\u001b[0m \u001b[0;34m\u001b[0m\u001b[0m\n",
      "\u001b[0;32m~/anaconda3/lib/python3.7/site-packages/catboost/core.py\u001b[0m in \u001b[0;36m_process_predict_input_data\u001b[0;34m(self, data, parent_method_name, thread_count, label)\u001b[0m\n\u001b[1;32m   1889\u001b[0m                 \u001b[0mcat_features\u001b[0m\u001b[0;34m=\u001b[0m\u001b[0mself\u001b[0m\u001b[0;34m.\u001b[0m\u001b[0m_get_cat_feature_indices\u001b[0m\u001b[0;34m(\u001b[0m\u001b[0;34m)\u001b[0m \u001b[0;32mif\u001b[0m \u001b[0;32mnot\u001b[0m \u001b[0misinstance\u001b[0m\u001b[0;34m(\u001b[0m\u001b[0mdata\u001b[0m\u001b[0;34m,\u001b[0m \u001b[0mFeaturesData\u001b[0m\u001b[0;34m)\u001b[0m \u001b[0;32melse\u001b[0m \u001b[0;32mNone\u001b[0m\u001b[0;34m,\u001b[0m\u001b[0;34m\u001b[0m\u001b[0;34m\u001b[0m\u001b[0m\n\u001b[1;32m   1890\u001b[0m                 \u001b[0mtext_features\u001b[0m\u001b[0;34m=\u001b[0m\u001b[0mself\u001b[0m\u001b[0;34m.\u001b[0m\u001b[0m_get_text_feature_indices\u001b[0m\u001b[0;34m(\u001b[0m\u001b[0;34m)\u001b[0m \u001b[0;32mif\u001b[0m \u001b[0;32mnot\u001b[0m \u001b[0misinstance\u001b[0m\u001b[0;34m(\u001b[0m\u001b[0mdata\u001b[0m\u001b[0;34m,\u001b[0m \u001b[0mFeaturesData\u001b[0m\u001b[0;34m)\u001b[0m \u001b[0;32melse\u001b[0m \u001b[0;32mNone\u001b[0m\u001b[0;34m,\u001b[0m\u001b[0;34m\u001b[0m\u001b[0;34m\u001b[0m\u001b[0m\n\u001b[0;32m-> 1891\u001b[0;31m                 \u001b[0mthread_count\u001b[0m\u001b[0;34m=\u001b[0m\u001b[0mthread_count\u001b[0m\u001b[0;34m\u001b[0m\u001b[0;34m\u001b[0m\u001b[0m\n\u001b[0m\u001b[1;32m   1892\u001b[0m             )\n\u001b[1;32m   1893\u001b[0m         \u001b[0;32mreturn\u001b[0m \u001b[0mdata\u001b[0m\u001b[0;34m,\u001b[0m \u001b[0mis_single_object\u001b[0m\u001b[0;34m\u001b[0m\u001b[0;34m\u001b[0m\u001b[0m\n",
      "\u001b[0;32m~/anaconda3/lib/python3.7/site-packages/catboost/core.py\u001b[0m in \u001b[0;36m__init__\u001b[0;34m(self, data, label, cat_features, text_features, column_description, pairs, delimiter, has_header, weight, group_id, group_weight, subgroup_id, pairs_weight, baseline, feature_names, thread_count)\u001b[0m\n\u001b[1;32m    432\u001b[0m                     )\n\u001b[1;32m    433\u001b[0m \u001b[0;34m\u001b[0m\u001b[0m\n\u001b[0;32m--> 434\u001b[0;31m                 \u001b[0mself\u001b[0m\u001b[0;34m.\u001b[0m\u001b[0m_init\u001b[0m\u001b[0;34m(\u001b[0m\u001b[0mdata\u001b[0m\u001b[0;34m,\u001b[0m \u001b[0mlabel\u001b[0m\u001b[0;34m,\u001b[0m \u001b[0mcat_features\u001b[0m\u001b[0;34m,\u001b[0m \u001b[0mtext_features\u001b[0m\u001b[0;34m,\u001b[0m \u001b[0mpairs\u001b[0m\u001b[0;34m,\u001b[0m \u001b[0mweight\u001b[0m\u001b[0;34m,\u001b[0m \u001b[0mgroup_id\u001b[0m\u001b[0;34m,\u001b[0m \u001b[0mgroup_weight\u001b[0m\u001b[0;34m,\u001b[0m \u001b[0msubgroup_id\u001b[0m\u001b[0;34m,\u001b[0m \u001b[0mpairs_weight\u001b[0m\u001b[0;34m,\u001b[0m \u001b[0mbaseline\u001b[0m\u001b[0;34m,\u001b[0m \u001b[0mfeature_names\u001b[0m\u001b[0;34m,\u001b[0m \u001b[0mthread_count\u001b[0m\u001b[0;34m)\u001b[0m\u001b[0;34m\u001b[0m\u001b[0;34m\u001b[0m\u001b[0m\n\u001b[0m\u001b[1;32m    435\u001b[0m         \u001b[0msuper\u001b[0m\u001b[0;34m(\u001b[0m\u001b[0mPool\u001b[0m\u001b[0;34m,\u001b[0m \u001b[0mself\u001b[0m\u001b[0;34m)\u001b[0m\u001b[0;34m.\u001b[0m\u001b[0m__init__\u001b[0m\u001b[0;34m(\u001b[0m\u001b[0;34m)\u001b[0m\u001b[0;34m\u001b[0m\u001b[0;34m\u001b[0m\u001b[0m\n\u001b[1;32m    436\u001b[0m \u001b[0;34m\u001b[0m\u001b[0m\n",
      "\u001b[0;32m~/anaconda3/lib/python3.7/site-packages/catboost/core.py\u001b[0m in \u001b[0;36m_init\u001b[0;34m(self, data, label, cat_features, text_features, pairs, weight, group_id, group_weight, subgroup_id, pairs_weight, baseline, feature_names, thread_count)\u001b[0m\n\u001b[1;32m    936\u001b[0m             \u001b[0mbaseline\u001b[0m \u001b[0;34m=\u001b[0m \u001b[0mnp\u001b[0m\u001b[0;34m.\u001b[0m\u001b[0mreshape\u001b[0m\u001b[0;34m(\u001b[0m\u001b[0mbaseline\u001b[0m\u001b[0;34m,\u001b[0m \u001b[0;34m(\u001b[0m\u001b[0msamples_count\u001b[0m\u001b[0;34m,\u001b[0m \u001b[0;34m-\u001b[0m\u001b[0;36m1\u001b[0m\u001b[0;34m)\u001b[0m\u001b[0;34m)\u001b[0m\u001b[0;34m\u001b[0m\u001b[0;34m\u001b[0m\u001b[0m\n\u001b[1;32m    937\u001b[0m             \u001b[0mself\u001b[0m\u001b[0;34m.\u001b[0m\u001b[0m_check_baseline_shape\u001b[0m\u001b[0;34m(\u001b[0m\u001b[0mbaseline\u001b[0m\u001b[0;34m,\u001b[0m \u001b[0msamples_count\u001b[0m\u001b[0;34m)\u001b[0m\u001b[0;34m\u001b[0m\u001b[0;34m\u001b[0m\u001b[0m\n\u001b[0;32m--> 938\u001b[0;31m         \u001b[0mself\u001b[0m\u001b[0;34m.\u001b[0m\u001b[0m_init_pool\u001b[0m\u001b[0;34m(\u001b[0m\u001b[0mdata\u001b[0m\u001b[0;34m,\u001b[0m \u001b[0mlabel\u001b[0m\u001b[0;34m,\u001b[0m \u001b[0mcat_features\u001b[0m\u001b[0;34m,\u001b[0m \u001b[0mtext_features\u001b[0m\u001b[0;34m,\u001b[0m \u001b[0mpairs\u001b[0m\u001b[0;34m,\u001b[0m \u001b[0mweight\u001b[0m\u001b[0;34m,\u001b[0m \u001b[0mgroup_id\u001b[0m\u001b[0;34m,\u001b[0m \u001b[0mgroup_weight\u001b[0m\u001b[0;34m,\u001b[0m \u001b[0msubgroup_id\u001b[0m\u001b[0;34m,\u001b[0m \u001b[0mpairs_weight\u001b[0m\u001b[0;34m,\u001b[0m \u001b[0mbaseline\u001b[0m\u001b[0;34m,\u001b[0m \u001b[0mfeature_names\u001b[0m\u001b[0;34m,\u001b[0m \u001b[0mthread_count\u001b[0m\u001b[0;34m)\u001b[0m\u001b[0;34m\u001b[0m\u001b[0;34m\u001b[0m\u001b[0m\n\u001b[0m\u001b[1;32m    939\u001b[0m \u001b[0;34m\u001b[0m\u001b[0m\n\u001b[1;32m    940\u001b[0m \u001b[0;34m\u001b[0m\u001b[0m\n",
      "\u001b[0;32m_catboost.pyx\u001b[0m in \u001b[0;36m_catboost._PoolBase._init_pool\u001b[0;34m()\u001b[0m\n",
      "\u001b[0;32m_catboost.pyx\u001b[0m in \u001b[0;36m_catboost._PoolBase._init_pool\u001b[0;34m()\u001b[0m\n",
      "\u001b[0;32m_catboost.pyx\u001b[0m in \u001b[0;36m_catboost._PoolBase._init_features_order_layout_pool\u001b[0;34m()\u001b[0m\n",
      "\u001b[0;32m_catboost.pyx\u001b[0m in \u001b[0;36m_catboost._set_features_order_data_pd_data_frame\u001b[0;34m()\u001b[0m\n",
      "\u001b[0;32m_catboost.pyx\u001b[0m in \u001b[0;36m_catboost.create_num_factor_data\u001b[0;34m()\u001b[0m\n",
      "\u001b[0;32m_catboost.pyx\u001b[0m in \u001b[0;36m_catboost.get_float_feature\u001b[0;34m()\u001b[0m\n",
      "\u001b[0;31mCatBoostError\u001b[0m: Bad value for num_feature[non_default_doc_idx=0,feature_idx=1]=\"Транспорт\": Cannot convert 'b'\\xd0\\xa2\\xd1\\x80\\xd0\\xb0\\xd0\\xbd\\xd1\\x81\\xd0\\xbf\\xd0\\xbe\\xd1\\x80\\xd1\\x82'' to float"
     ]
    }
   ],
   "source": [
    "y_pred = model.predict(X_val)"
   ]
  },
  {
   "cell_type": "code",
   "execution_count": null,
   "metadata": {
    "ExecuteTime": {
     "end_time": "2020-07-18T14:27:21.069854Z",
     "start_time": "2020-07-18T14:27:15.600Z"
    }
   },
   "outputs": [],
   "source": [
    "roc_auc_score(y_pred, y_val)"
   ]
  },
  {
   "cell_type": "code",
   "execution_count": null,
   "metadata": {},
   "outputs": [],
   "source": []
  }
 ],
 "metadata": {
  "kernelspec": {
   "display_name": "Python 3",
   "language": "python",
   "name": "python3"
  },
  "language_info": {
   "codemirror_mode": {
    "name": "ipython",
    "version": 3
   },
   "file_extension": ".py",
   "mimetype": "text/x-python",
   "name": "python",
   "nbconvert_exporter": "python",
   "pygments_lexer": "ipython3",
   "version": "3.7.3"
  },
  "toc": {
   "base_numbering": 1,
   "nav_menu": {},
   "number_sections": true,
   "sideBar": true,
   "skip_h1_title": false,
   "title_cell": "Table of Contents",
   "title_sidebar": "Contents",
   "toc_cell": false,
   "toc_position": {},
   "toc_section_display": true,
   "toc_window_display": false
  }
 },
 "nbformat": 4,
 "nbformat_minor": 2
}
